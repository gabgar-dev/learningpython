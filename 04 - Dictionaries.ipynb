{
 "cells": [
  {
   "cell_type": "markdown",
   "metadata": {},
   "source": [
    "### A simple dictionaries"
   ]
  },
  {
   "cell_type": "markdown",
   "metadata": {},
   "source": [
    "#### Dictionaries - Collection of key-value pairs - each pair is connected to a value"
   ]
  },
  {
   "cell_type": "markdown",
   "metadata": {},
   "source": [
    "#####  In python a dictionary is wrapped in braces, {} with a series of key-value pairs inside the braces"
   ]
  },
  {
   "cell_type": "code",
   "execution_count": 19,
   "metadata": {},
   "outputs": [
    {
     "name": "stdout",
     "output_type": "stream",
     "text": [
      "{'color': 'green', 'points': 5}\n"
     ]
    }
   ],
   "source": [
    "alien_o = {'color': 'green', 'points': 5}\n",
    "print (alien_o)"
   ]
  },
  {
   "cell_type": "code",
   "execution_count": 6,
   "metadata": {},
   "outputs": [
    {
     "name": "stdout",
     "output_type": "stream",
     "text": [
      "green\n",
      "5\n"
     ]
    }
   ],
   "source": [
    "print(alien_o['color'])\n",
    "print(alien_o['points'])"
   ]
  },
  {
   "cell_type": "code",
   "execution_count": 9,
   "metadata": {},
   "outputs": [
    {
     "name": "stdout",
     "output_type": "stream",
     "text": [
      "You just earned 5 points!\n"
     ]
    }
   ],
   "source": [
    "#The dictionary pulls the value associated with points\n",
    "new_points = alien_o['points']\n",
    "print ('You just earned ' + str(new_points) + ' points!')"
   ]
  },
  {
   "cell_type": "code",
   "execution_count": 10,
   "metadata": {},
   "outputs": [],
   "source": [
    "#Dictionaries are dynamic structures, and you can add new key-value pairs at any time"
   ]
  },
  {
   "cell_type": "code",
   "execution_count": 15,
   "metadata": {},
   "outputs": [],
   "source": [
    "#Using  X and Y coordinates\n",
    "alien_o['x_position'] = 0\n",
    "alien_o['y_position'] = 25"
   ]
  },
  {
   "cell_type": "code",
   "execution_count": 17,
   "metadata": {},
   "outputs": [
    {
     "name": "stdout",
     "output_type": "stream",
     "text": [
      "{'color': 'green', 'points': 5, 'x_position': 0, 'y_position': 25}\n"
     ]
    }
   ],
   "source": [
    "#now X and Y are added to the dictionary\n",
    "print(alien_o)"
   ]
  },
  {
   "cell_type": "markdown",
   "metadata": {},
   "source": [
    "#### sometimes it is  useful to start with a empty dictionary"
   ]
  },
  {
   "cell_type": "code",
   "execution_count": 20,
   "metadata": {},
   "outputs": [],
   "source": [
    "alien_o = {}"
   ]
  },
  {
   "cell_type": "code",
   "execution_count": 24,
   "metadata": {},
   "outputs": [],
   "source": [
    "alien_o['color'] = 'green'"
   ]
  },
  {
   "cell_type": "code",
   "execution_count": 25,
   "metadata": {},
   "outputs": [
    {
     "name": "stdout",
     "output_type": "stream",
     "text": [
      "{'color': 'green'}\n"
     ]
    }
   ],
   "source": [
    "print (alien_o)"
   ]
  },
  {
   "cell_type": "code",
   "execution_count": 26,
   "metadata": {},
   "outputs": [
    {
     "name": "stdout",
     "output_type": "stream",
     "text": [
      "{'color': 'green', 'points': 5}\n"
     ]
    }
   ],
   "source": [
    "alien_o['points'] = 5\n",
    "print (alien_o)"
   ]
  },
  {
   "cell_type": "markdown",
   "metadata": {},
   "source": [
    "#### Modifying values in  a dictionary"
   ]
  },
  {
   "cell_type": "code",
   "execution_count": 28,
   "metadata": {},
   "outputs": [
    {
     "name": "stdout",
     "output_type": "stream",
     "text": [
      "This alien is green.\n"
     ]
    }
   ],
   "source": [
    "print ('This alien is ' + alien_o['color'] + '.')"
   ]
  },
  {
   "cell_type": "code",
   "execution_count": 29,
   "metadata": {},
   "outputs": [
    {
     "name": "stdout",
     "output_type": "stream",
     "text": [
      "This alien is yellow.\n"
     ]
    }
   ],
   "source": [
    "alien_o['color'] = 'yellow'\n",
    "print ('This alien is ' + alien_o['color'] + '.')"
   ]
  },
  {
   "cell_type": "markdown",
   "metadata": {},
   "source": [
    "##### Tracking alien position"
   ]
  },
  {
   "cell_type": "code",
   "execution_count": 31,
   "metadata": {},
   "outputs": [
    {
     "name": "stdout",
     "output_type": "stream",
     "text": [
      "Original x-position:0\n",
      "New x-position:2\n"
     ]
    }
   ],
   "source": [
    "#original position\n",
    "alien_o = {'x_position':0, 'y_position':25, 'speed': 'medium'}\n",
    "print ('Original x-position:' + str(alien_o['x_position']))\n",
    "\n",
    "#Move alien to the right\n",
    "#Determine how far to move the aline based on its current speed \n",
    "if alien_o['speed'] == 'slow':\n",
    "    x_increment = 1\n",
    "elif alien_o['speed'] == 'medium':\n",
    "    x_increment = 2\n",
    "else:\n",
    "    #This must be a fast alien\n",
    "    x_increment = 3\n",
    "\n",
    "#The new position is the old position plus the increment\n",
    "alien_o['x_position'] = alien_o['x_position'] + x_increment\n",
    "\n",
    "\n",
    "print ('New x-position:' + str(alien_o['x_position']))\n",
    "    "
   ]
  },
  {
   "cell_type": "markdown",
   "metadata": {},
   "source": [
    "#### Removing Key-Value pairs"
   ]
  },
  {
   "cell_type": "code",
   "execution_count": 33,
   "metadata": {},
   "outputs": [
    {
     "name": "stdout",
     "output_type": "stream",
     "text": [
      "{'x_position': 2, 'y_position': 25, 'speed': 'medium', 'points': 25}\n"
     ]
    }
   ],
   "source": [
    "alien_o['points'] = 25\n",
    "print (alien_o)"
   ]
  },
  {
   "cell_type": "code",
   "execution_count": 34,
   "metadata": {},
   "outputs": [
    {
     "name": "stdout",
     "output_type": "stream",
     "text": [
      "{'x_position': 2, 'y_position': 25, 'speed': 'medium'}\n"
     ]
    }
   ],
   "source": [
    "#deleting points\n",
    "del alien_o['points']\n",
    "print (alien_o)"
   ]
  },
  {
   "cell_type": "markdown",
   "metadata": {},
   "source": [
    "##### removing is permanent!!!!"
   ]
  },
  {
   "cell_type": "markdown",
   "metadata": {},
   "source": [
    "#### A Dictionary of Similar Objects"
   ]
  },
  {
   "cell_type": "code",
   "execution_count": 41,
   "metadata": {},
   "outputs": [],
   "source": [
    "#Favorite languages\n",
    "#good practice to indent the dictionary for easy readability\n",
    "#Good practice to add a comma in the last line, to be ready to add a new key-value\n",
    "favorite_languages = {\n",
    "    'jen': 'python',\n",
    "    'sarah': 'c',\n",
    "    'edward':'ruby',\n",
    "    'phil': 'python',\n",
    "}"
   ]
  },
  {
   "cell_type": "code",
   "execution_count": 44,
   "metadata": {},
   "outputs": [
    {
     "name": "stdout",
     "output_type": "stream",
     "text": [
      "Sarah's favorite language is C.\n"
     ]
    }
   ],
   "source": [
    "#Printing favorite language\n",
    "#also shows how to break big prints\n",
    "print (\"Sarah's favorite language is \" +\n",
    "       favorite_languages['sarah'].title() +\n",
    "       \".\")"
   ]
  },
  {
   "cell_type": "markdown",
   "metadata": {},
   "source": [
    "#### Exercises "
   ]
  },
  {
   "cell_type": "code",
   "execution_count": 57,
   "metadata": {},
   "outputs": [],
   "source": [
    "#Exercise 1 - Person info\n",
    "\n",
    "person_info  = {'name': 'carol',\n",
    "                'last name': 'cauduro',\n",
    "                'age': 35,\n",
    "                'city': 'porto alegre',}            \n"
   ]
  },
  {
   "cell_type": "code",
   "execution_count": 58,
   "metadata": {},
   "outputs": [
    {
     "name": "stdout",
     "output_type": "stream",
     "text": [
      "{'name': 'carol', 'last name': 'cauduro', 'age': 35, 'city': 'porto alegre'}\n"
     ]
    }
   ],
   "source": [
    "print(person_info)"
   ]
  },
  {
   "cell_type": "code",
   "execution_count": 59,
   "metadata": {},
   "outputs": [
    {
     "name": "stdout",
     "output_type": "stream",
     "text": [
      "Carol Cauduro has 35 years old and lives in Porto Alegre\n"
     ]
    }
   ],
   "source": [
    "print (person_info['name'].title() +\n",
    "       \" \"+\n",
    "       person_info['last name'].title() +\n",
    "      \" has \" +\n",
    "      str(person_info['age'])+\n",
    "      \" years old \" + \n",
    "       \"and lives in \"+\n",
    "      person_info['city'].title())"
   ]
  },
  {
   "cell_type": "code",
   "execution_count": 69,
   "metadata": {},
   "outputs": [
    {
     "name": "stdout",
     "output_type": "stream",
     "text": [
      "{'mirele': 5, 'luiza': 7, 'camila': 3, 'niels': 8, 'thomas': 17}\n"
     ]
    }
   ],
   "source": [
    "#Exercise 2  Favorite numbers\n",
    "\n",
    "favorite_numbers = {'mirele': 5,\n",
    "                   'luiza': 7,\n",
    "                   'camila': 3,\n",
    "                   'niels': 8,\n",
    "                   'thomas':17,\n",
    "                   }\n",
    "print (favorite_numbers)"
   ]
  },
  {
   "cell_type": "code",
   "execution_count": 86,
   "metadata": {},
   "outputs": [
    {
     "name": "stdout",
     "output_type": "stream",
     "text": [
      "Mirele favorite number is 5\n",
      "Luiza favorite number is 7\n",
      "Camila favorite number is 3\n",
      "Niels favorite number is 8\n",
      "Thomas favorite number is 17\n"
     ]
    }
   ],
   "source": [
    "# Code that works but is not efficient\n",
    "print (\"Mirele favorite number is \" +\n",
    "      str(favorite_numbers['mirele']))\n",
    "print (\"Luiza favorite number is \" +\n",
    "      str(favorite_numbers['luiza']))\n",
    "print (\"Camila favorite number is \" +\n",
    "      str(favorite_numbers['camila']))\n",
    "print (\"Niels favorite number is \" +\n",
    "      str(favorite_numbers['niels']))\n",
    "print (\"Thomas favorite number is \" +\n",
    "      str(favorite_numbers['thomas']))\n",
    "\n"
   ]
  },
  {
   "cell_type": "code",
   "execution_count": 71,
   "metadata": {},
   "outputs": [
    {
     "name": "stdout",
     "output_type": "stream",
     "text": [
      "5\n"
     ]
    }
   ],
   "source": [
    "print (favorite_numbers['mirele'])"
   ]
  },
  {
   "cell_type": "code",
   "execution_count": 76,
   "metadata": {},
   "outputs": [
    {
     "data": {
      "text/plain": [
       "dict_items([('mirele', 5), ('luiza', 7), ('camila', 3), ('niels', 8), ('thomas', 17)])"
      ]
     },
     "execution_count": 76,
     "metadata": {},
     "output_type": "execute_result"
    }
   ],
   "source": [
    "favorite_numbers.items()"
   ]
  },
  {
   "cell_type": "code",
   "execution_count": 87,
   "metadata": {},
   "outputs": [
    {
     "name": "stdout",
     "output_type": "stream",
     "text": [
      "Mirele favorite number is 5\n",
      "Luiza favorite number is 7\n",
      "Camila favorite number is 3\n",
      "Niels favorite number is 8\n",
      "Thomas favorite number is 17\n"
     ]
    }
   ],
   "source": [
    "#Much better code\n",
    "for name, number in favorite_numbers.items():\n",
    "    print (name.title()+\n",
    "           \" favorite number is \" +\n",
    "           str(number))"
   ]
  },
  {
   "cell_type": "markdown",
   "metadata": {},
   "source": [
    "### Looping through a dictionary"
   ]
  },
  {
   "cell_type": "code",
   "execution_count": 88,
   "metadata": {},
   "outputs": [],
   "source": [
    "user_o = {'username': 'efermi',\n",
    "         'first': 'enrico',\n",
    "         'last': 'fermini',\n",
    "         }"
   ]
  },
  {
   "cell_type": "markdown",
   "metadata": {},
   "source": [
    "#### the method .items() returns a list of key-value pairs"
   ]
  },
  {
   "cell_type": "code",
   "execution_count": 89,
   "metadata": {},
   "outputs": [
    {
     "name": "stdout",
     "output_type": "stream",
     "text": [
      "\n",
      "Key: username\n",
      "Value: efermi\n",
      "\n",
      "Key: first\n",
      "Value: enrico\n",
      "\n",
      "Key: last\n",
      "Value: fermini\n"
     ]
    }
   ],
   "source": [
    "for key, value in user_o.items():\n",
    "    print (\"\\nKey: \" +key)\n",
    "    print (\"Value: \" +value)"
   ]
  },
  {
   "cell_type": "markdown",
   "metadata": {},
   "source": [
    "### Looping through all keys in a dictionary . keys () method"
   ]
  },
  {
   "cell_type": "markdown",
   "metadata": {},
   "source": [
    "##### it is useful when you dont need to work with all of the values"
   ]
  },
  {
   "cell_type": "code",
   "execution_count": 90,
   "metadata": {},
   "outputs": [
    {
     "name": "stdout",
     "output_type": "stream",
     "text": [
      "Jen\n",
      "Sarah\n",
      "Edward\n",
      "Phil\n"
     ]
    }
   ],
   "source": [
    "#Using keys() method\n",
    "favorite_languages = {\n",
    "    'jen': 'python',\n",
    "    'sarah': 'c',\n",
    "    'edward':'ruby',\n",
    "    'phil': 'python',\n",
    "}\n",
    "for name in favorite_languages.keys():\n",
    "    print(name.title())"
   ]
  },
  {
   "cell_type": "code",
   "execution_count": 91,
   "metadata": {},
   "outputs": [
    {
     "name": "stdout",
     "output_type": "stream",
     "text": [
      "Jen\n",
      "Sarah\n",
      "Edward\n",
      "Phil\n"
     ]
    }
   ],
   "source": [
    "#using keys is the default bevahior, so it is even not necessary\n",
    "for name in favorite_languages:\n",
    "     print(name.title())"
   ]
  },
  {
   "cell_type": "code",
   "execution_count": 100,
   "metadata": {},
   "outputs": [
    {
     "name": "stdout",
     "output_type": "stream",
     "text": [
      "Jen\n",
      "Sarah\n",
      "Hi Sarah,I see your favorite language is C!\n",
      "Edward\n",
      "Phil\n",
      "Hi Phil,I see your favorite language is Python!\n"
     ]
    }
   ],
   "source": [
    "friends = ['phil', 'sarah']\n",
    "for name in favorite_languages.keys():\n",
    "    print (name.title())\n",
    "    \n",
    "    if name in friends:\n",
    "        print (\"Hi \" + name.title()+\n",
    "          \",\" \"I see your favorite language is \"+ favorite_languages[name].title() + \n",
    "          \"!\")"
   ]
  },
  {
   "cell_type": "markdown",
   "metadata": {},
   "source": [
    "##### Finding if someone is NOT in the pool"
   ]
  },
  {
   "cell_type": "code",
   "execution_count": 103,
   "metadata": {},
   "outputs": [
    {
     "name": "stdout",
     "output_type": "stream",
     "text": [
      "Erin, please take our poll!\n"
     ]
    }
   ],
   "source": [
    "# Finding the missing person in the pool\n",
    "\n",
    "if 'erin' not in favorite_languages.keys():\n",
    "    print (\"Erin, please take our poll!\")\n"
   ]
  },
  {
   "cell_type": "markdown",
   "metadata": {},
   "source": [
    "### Looping through a dictionary's keys in order"
   ]
  },
  {
   "cell_type": "code",
   "execution_count": 104,
   "metadata": {},
   "outputs": [],
   "source": [
    " favorite_languages = {\n",
    "    'jen': 'python',\n",
    "    'sarah': 'c',\n",
    "    'edward':'ruby',\n",
    "    'phil': 'python',\n",
    "}"
   ]
  },
  {
   "cell_type": "code",
   "execution_count": 105,
   "metadata": {},
   "outputs": [
    {
     "name": "stdout",
     "output_type": "stream",
     "text": [
      "The following languages have been mentioned:\n",
      "Python\n",
      "Ruby\n",
      "C\n"
     ]
    }
   ],
   "source": [
    "print (\"The following languages have been mentioned:\")\n",
    "for language in set(favorite_languages.values()):\n",
    "    print (language.title())"
   ]
  },
  {
   "cell_type": "markdown",
   "metadata": {},
   "source": [
    "##### When you wrap a set() around a list that contains duplicate items, Python identifies the unique items"
   ]
  },
  {
   "cell_type": "markdown",
   "metadata": {},
   "source": [
    "### Exercises"
   ]
  },
  {
   "cell_type": "code",
   "execution_count": 108,
   "metadata": {},
   "outputs": [],
   "source": [
    "# Exercise River - Make a dictionary containing the three major rivers and the country\n",
    "largest_rivers = {'amazon': 'brazil',\n",
    "                 'nile': 'egypt',\n",
    "                 'yantze': 'china',}"
   ]
  },
  {
   "cell_type": "code",
   "execution_count": 111,
   "metadata": {},
   "outputs": [
    {
     "name": "stdout",
     "output_type": "stream",
     "text": [
      "The Amazon runs through Brazil.\n",
      "The Nile runs through Egypt.\n",
      "The Yantze runs through China.\n"
     ]
    }
   ],
   "source": [
    "# use a loop to print a sentence about each river\n",
    "\n",
    "for river, country in largest_rivers.items():\n",
    "    print (\"The \"+ river.title() +\n",
    "          \" runs through \" + country.title()+\n",
    "          \".\"\n",
    "          )"
   ]
  },
  {
   "cell_type": "code",
   "execution_count": 114,
   "metadata": {},
   "outputs": [
    {
     "name": "stdout",
     "output_type": "stream",
     "text": [
      "Amazon\n",
      "Nile\n",
      "Yantze\n"
     ]
    }
   ],
   "source": [
    "# print each river in the dictionary\n",
    "for river in largest_rivers.keys():\n",
    "    print (river.title())"
   ]
  },
  {
   "cell_type": "markdown",
   "metadata": {},
   "source": [
    "### Nesting\n",
    "#### Nesting is store a set of dictionaries in a list or vice-versa"
   ]
  },
  {
   "cell_type": "code",
   "execution_count": 116,
   "metadata": {},
   "outputs": [],
   "source": [
    "#a list of dictionaries\n",
    "\n",
    "alien_o = {'color': 'green', 'points': 5}\n",
    "alien_1 = {'color': 'yellow', 'points': 10}\n",
    "alien_2 = {'color': 'red', 'points': 15}"
   ]
  },
  {
   "cell_type": "code",
   "execution_count": 117,
   "metadata": {},
   "outputs": [],
   "source": [
    "aliens = [alien_o, alien_1, alien_2]"
   ]
  },
  {
   "cell_type": "code",
   "execution_count": 118,
   "metadata": {},
   "outputs": [
    {
     "name": "stdout",
     "output_type": "stream",
     "text": [
      "{'color': 'green', 'points': 5}\n",
      "{'color': 'yellow', 'points': 10}\n",
      "{'color': 'red', 'points': 15}\n"
     ]
    }
   ],
   "source": [
    "for alien in aliens:\n",
    "    print (alien)"
   ]
  },
  {
   "cell_type": "markdown",
   "metadata": {},
   "source": [
    "#### Creating a fleet of aliens - using range()"
   ]
  },
  {
   "cell_type": "code",
   "execution_count": 119,
   "metadata": {},
   "outputs": [
    {
     "name": "stdout",
     "output_type": "stream",
     "text": [
      "{'color': 'green', 'points': 5, 'speed': 'slow'}\n",
      "{'color': 'green', 'points': 5, 'speed': 'slow'}\n",
      "{'color': 'green', 'points': 5, 'speed': 'slow'}\n",
      "{'color': 'green', 'points': 5, 'speed': 'slow'}\n",
      "{'color': 'green', 'points': 5, 'speed': 'slow'}\n",
      "...\n",
      "Total number of aliens:30\n"
     ]
    }
   ],
   "source": [
    "#Make a empty list for storing alines:\n",
    "aliens = []\n",
    "\n",
    "#Make 30 green aliens\n",
    "for alien_number in range(30):\n",
    "    new_alien = {'color': 'green',\n",
    "                 'points': 5,\n",
    "                 'speed': 'slow',}\n",
    "    aliens.append(new_alien)\n",
    "\n",
    "#Show the first 5 aliens.\n",
    "for alien in aliens[:5]:\n",
    "    print (alien)\n",
    "print (\"...\")\n",
    "\n",
    "\n",
    "#Show hoe many aliens have been created\n",
    "print (\"Total number of aliens:\"+\n",
    "      str(len(aliens)))\n"
   ]
  },
  {
   "cell_type": "markdown",
   "metadata": {},
   "source": [
    "#### Modifying the list - changing the values"
   ]
  },
  {
   "cell_type": "code",
   "execution_count": 121,
   "metadata": {},
   "outputs": [
    {
     "name": "stdout",
     "output_type": "stream",
     "text": [
      "{'color': 'yellow', 'points': 10, 'speed': 'medium'}\n",
      "{'color': 'yellow', 'points': 10, 'speed': 'medium'}\n",
      "{'color': 'yellow', 'points': 10, 'speed': 'medium'}\n",
      "{'color': 'green', 'points': 5, 'speed': 'slow'}\n",
      "{'color': 'green', 'points': 5, 'speed': 'slow'}\n",
      "...\n"
     ]
    }
   ],
   "source": [
    "for alien in aliens[0:3]:\n",
    "    if alien['color'] == 'green':\n",
    "        alien['color'] = 'yellow'\n",
    "        alien['speed'] = 'medium'\n",
    "        alien['points'] = 10\n",
    "\n",
    "#Show the first 5 aliens\n",
    "for alien in aliens[0:5]:\n",
    "    print (alien)\n",
    "print(\"...\")"
   ]
  },
  {
   "cell_type": "code",
   "execution_count": 122,
   "metadata": {},
   "outputs": [
    {
     "name": "stdout",
     "output_type": "stream",
     "text": [
      "{'color': 'red', 'points': 15, 'speed': 'fast'}\n",
      "{'color': 'red', 'points': 15, 'speed': 'fast'}\n",
      "{'color': 'red', 'points': 15, 'speed': 'fast'}\n",
      "{'color': 'green', 'points': 5, 'speed': 'slow'}\n",
      "{'color': 'green', 'points': 5, 'speed': 'slow'}\n",
      "...\n"
     ]
    }
   ],
   "source": [
    "# expanding\n",
    "for alien in aliens[0:3]:\n",
    "    if alien['color'] == 'green':\n",
    "        alien['color'] = 'yellow'\n",
    "        alien['speed'] = 'medium'\n",
    "        alien['points'] = 10\n",
    "    elif alien['color'] == 'yellow':\n",
    "        alien['color'] = 'red'\n",
    "        alien['speed'] = 'fast'\n",
    "        alien['points'] = 15\n",
    "    \n",
    "\n",
    "#Show the first 5 aliens\n",
    "for alien in aliens[0:5]:\n",
    "    print (alien)\n",
    "print(\"...\")"
   ]
  },
  {
   "cell_type": "markdown",
   "metadata": {},
   "source": [
    "### A list in a dictionary"
   ]
  },
  {
   "cell_type": "code",
   "execution_count": 126,
   "metadata": {},
   "outputs": [
    {
     "name": "stdout",
     "output_type": "stream",
     "text": [
      "You ordered a thick-crust pizza with the following toppings:\n",
      "\tmushroom\n",
      "\textra cheese\n"
     ]
    }
   ],
   "source": [
    "#Store information about a pizza being ordered\n",
    "pizza = {\n",
    "    'crust': 'thick',\n",
    "    'toppings': ['mushroom', 'extra cheese'],\n",
    "    \n",
    "}\n",
    "\n",
    "#Summarize the order\n",
    "print (\"You ordered a \" + pizza['crust'] + \"-crust pizza\" +\n",
    "      \" with the following toppings:\")\n",
    "\n",
    "for topping in pizza['toppings']:\n",
    "    print (\"\\t\" + topping)"
   ]
  },
  {
   "cell_type": "code",
   "execution_count": 130,
   "metadata": {},
   "outputs": [],
   "source": [
    "# Using previous example\n",
    "\n",
    "favorite_languages = {\n",
    "    'jen': ['python', 'ruby'],\n",
    "    'sarah': ['c'],\n",
    "    'edward':['ruby', 'go'],\n",
    "    'phil': ['python', 'haskell'],\n",
    "}"
   ]
  },
  {
   "cell_type": "code",
   "execution_count": 131,
   "metadata": {},
   "outputs": [
    {
     "name": "stdout",
     "output_type": "stream",
     "text": [
      "\n",
      "Jens favorite languages are:\n",
      "\tPython\n",
      "\tRuby\n",
      "\n",
      "Sarahs favorite languages are:\n",
      "\tC\n",
      "\n",
      "Edwards favorite languages are:\n",
      "\tRuby\n",
      "\tGo\n",
      "\n",
      "Phils favorite languages are:\n",
      "\tPython\n",
      "\tHaskell\n"
     ]
    }
   ],
   "source": [
    "for name, languages in favorite_languages.items():\n",
    "    print (\"\\n\" + name.title() + \"s favorite languages are:\")\n",
    "    for language in languages:\n",
    "        print (\"\\t\" + language.title())"
   ]
  },
  {
   "cell_type": "markdown",
   "metadata": {},
   "source": [
    "### A Dictionary in a Dictionary"
   ]
  },
  {
   "cell_type": "code",
   "execution_count": 134,
   "metadata": {},
   "outputs": [],
   "source": [
    "users = {\n",
    "    'aeinstein': {\n",
    "        'first': 'albert',\n",
    "        'last': 'einsten',\n",
    "        'location': 'princeton',\n",
    "    },\n",
    "    'mcurie': {\n",
    "        'first': 'marie',\n",
    "        'last': 'curie',\n",
    "        'location': 'paris'\n",
    "    },\n",
    "}"
   ]
  },
  {
   "cell_type": "code",
   "execution_count": 136,
   "metadata": {},
   "outputs": [
    {
     "name": "stdout",
     "output_type": "stream",
     "text": [
      "\n",
      "Username:aeinstein\n",
      "\tFull name: Albert Einsten\n",
      "\tLocation: Princeton\n",
      "\n",
      "Username:mcurie\n",
      "\tFull name: Marie Curie\n",
      "\tLocation: Paris\n"
     ]
    }
   ],
   "source": [
    "for username, user_info in users.items():\n",
    "    print (\"\\nUsername:\" + username)\n",
    "    full_name = user_info['first'] + \" \" + user_info['last']\n",
    "    location = user_info['location']\n",
    "    \n",
    "    print (\"\\tFull name: \" + full_name.title())\n",
    "    print (\"\\tLocation: \" + location.title())"
   ]
  },
  {
   "cell_type": "code",
   "execution_count": null,
   "metadata": {},
   "outputs": [],
   "source": []
  }
 ],
 "metadata": {
  "kernelspec": {
   "display_name": "Python 3",
   "language": "python",
   "name": "python3"
  },
  "language_info": {
   "codemirror_mode": {
    "name": "ipython",
    "version": 3
   },
   "file_extension": ".py",
   "mimetype": "text/x-python",
   "name": "python",
   "nbconvert_exporter": "python",
   "pygments_lexer": "ipython3",
   "version": "3.6.9"
  }
 },
 "nbformat": 4,
 "nbformat_minor": 2
}
