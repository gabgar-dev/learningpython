{
 "cells": [
  {
   "cell_type": "markdown",
   "metadata": {},
   "source": [
    "### Input\n"
   ]
  },
  {
   "cell_type": "markdown",
   "metadata": {},
   "source": [
    "Input pauses your program and waits user input"
   ]
  },
  {
   "cell_type": "code",
   "execution_count": 1,
   "metadata": {},
   "outputs": [
    {
     "name": "stdout",
     "output_type": "stream",
     "text": [
      "Tell me something and I will repeat back to you:Hello Dada\n",
      "Hello Dada\n"
     ]
    }
   ],
   "source": [
    "message = input(\"Tell me something and I will repeat back to you:\")\n",
    "print(message)"
   ]
  },
  {
   "cell_type": "code",
   "execution_count": 5,
   "metadata": {},
   "outputs": [
    {
     "name": "stdout",
     "output_type": "stream",
     "text": [
      "Please enter your name:Gabriel\n",
      "Hello, Gabriel!\n"
     ]
    }
   ],
   "source": [
    "name = input(\"Please enter your name:\")\n",
    "print (\"Hello, \" + name + \"!\")"
   ]
  },
  {
   "cell_type": "code",
   "execution_count": 7,
   "metadata": {},
   "outputs": [
    {
     "name": "stdout",
     "output_type": "stream",
     "text": [
      "If you tell us who you are, we can personalize messages you see\n",
      "What is your name?Gabriel\n",
      "Hello, Gabriel!\n"
     ]
    }
   ],
   "source": [
    "prompt = \"If you tell us who you are, we can personalize messages you see\"\n",
    "prompt+= \"\\nWhat is your name?\"\n",
    "\n",
    "name = input(prompt)\n",
    "\n",
    "print (\"Hello, \" + name  + \"!\")"
   ]
  },
  {
   "cell_type": "code",
   "execution_count": 10,
   "metadata": {},
   "outputs": [
    {
     "name": "stdout",
     "output_type": "stream",
     "text": [
      "How old are you? 41\n"
     ]
    }
   ],
   "source": [
    "age = input (\"How old are you? \")"
   ]
  },
  {
   "cell_type": "code",
   "execution_count": 11,
   "metadata": {},
   "outputs": [
    {
     "data": {
      "text/plain": [
       "str"
      ]
     },
     "execution_count": 11,
     "metadata": {},
     "output_type": "execute_result"
    }
   ],
   "source": [
    "type (age)"
   ]
  },
  {
   "cell_type": "code",
   "execution_count": 12,
   "metadata": {},
   "outputs": [
    {
     "ename": "TypeError",
     "evalue": "'>=' not supported between instances of 'str' and 'int'",
     "output_type": "error",
     "traceback": [
      "\u001b[0;31m---------------------------------------------------------------------------\u001b[0m",
      "\u001b[0;31mTypeError\u001b[0m                                 Traceback (most recent call last)",
      "\u001b[0;32m<ipython-input-12-d9f2f1dd26b8>\u001b[0m in \u001b[0;36m<module>\u001b[0;34m()\u001b[0m\n\u001b[0;32m----> 1\u001b[0;31m \u001b[0mage\u001b[0m\u001b[0;34m>=\u001b[0m\u001b[0;36m18\u001b[0m\u001b[0;34m\u001b[0m\u001b[0;34m\u001b[0m\u001b[0m\n\u001b[0m",
      "\u001b[0;31mTypeError\u001b[0m: '>=' not supported between instances of 'str' and 'int'"
     ]
    }
   ],
   "source": [
    "age>=18"
   ]
  },
  {
   "cell_type": "code",
   "execution_count": 13,
   "metadata": {},
   "outputs": [],
   "source": [
    "#To fix the error above, we need to transform the input from str to int\n",
    "age = int(age)"
   ]
  },
  {
   "cell_type": "code",
   "execution_count": 14,
   "metadata": {},
   "outputs": [
    {
     "data": {
      "text/plain": [
       "int"
      ]
     },
     "execution_count": 14,
     "metadata": {},
     "output_type": "execute_result"
    }
   ],
   "source": [
    "type(age)"
   ]
  },
  {
   "cell_type": "code",
   "execution_count": 15,
   "metadata": {},
   "outputs": [
    {
     "data": {
      "text/plain": [
       "True"
      ]
     },
     "execution_count": 15,
     "metadata": {},
     "output_type": "execute_result"
    }
   ],
   "source": [
    "age> 18"
   ]
  },
  {
   "cell_type": "markdown",
   "metadata": {},
   "source": [
    "### The Modulo Operator"
   ]
  },
  {
   "cell_type": "raw",
   "metadata": {},
   "source": [
    "the modulo operator (%/) divides one number by another and return the remainder"
   ]
  },
  {
   "cell_type": "code",
   "execution_count": 16,
   "metadata": {},
   "outputs": [
    {
     "data": {
      "text/plain": [
       "1"
      ]
     },
     "execution_count": 16,
     "metadata": {},
     "output_type": "execute_result"
    }
   ],
   "source": [
    "#modulo operator\n",
    "4%3"
   ]
  },
  {
   "cell_type": "code",
   "execution_count": 17,
   "metadata": {},
   "outputs": [
    {
     "data": {
      "text/plain": [
       "2"
      ]
     },
     "execution_count": 17,
     "metadata": {},
     "output_type": "execute_result"
    }
   ],
   "source": [
    "5%3"
   ]
  },
  {
   "cell_type": "code",
   "execution_count": 18,
   "metadata": {},
   "outputs": [
    {
     "data": {
      "text/plain": [
       "1"
      ]
     },
     "execution_count": 18,
     "metadata": {},
     "output_type": "execute_result"
    }
   ],
   "source": [
    "7%3"
   ]
  },
  {
   "cell_type": "code",
   "execution_count": 19,
   "metadata": {},
   "outputs": [
    {
     "data": {
      "text/plain": [
       "0"
      ]
     },
     "execution_count": 19,
     "metadata": {},
     "output_type": "execute_result"
    }
   ],
   "source": [
    "6%3"
   ]
  },
  {
   "cell_type": "code",
   "execution_count": 26,
   "metadata": {},
   "outputs": [
    {
     "name": "stdout",
     "output_type": "stream",
     "text": [
      "Enter a number and I'll tell if odd or even: 3\n",
      " The number 3 is odd!\n"
     ]
    }
   ],
   "source": [
    "#Even or Odd numer\n",
    "number = input(\"Enter a number and I'll tell if odd or even: \")\n",
    "number = int(number)\n",
    "\n",
    "if number%2 == 0:\n",
    "    print (\" The number \" + str(number) + \" is even!\")\n",
    "else:\n",
    "    print (\" The number \" + str(number) + \" is odd!\")\n",
    "           "
   ]
  },
  {
   "cell_type": "markdown",
   "metadata": {},
   "source": [
    "#### Exercises\n"
   ]
  },
  {
   "cell_type": "code",
   "execution_count": 32,
   "metadata": {},
   "outputs": [
    {
     "name": "stdout",
     "output_type": "stream",
     "text": [
      "Hello! Which car you would like?passat\n",
      "Sorry, we don't have a Passat!\n"
     ]
    }
   ],
   "source": [
    "# Rental a car.  Write a program that ask the user which car he wants\n",
    "# print a message about the car - if you have or not\n",
    "\n",
    "desired_car = input (\"Hello! Which car you would like?\")\n",
    "\n",
    "desired_car = desired_car.lower()\n",
    "\n",
    "available_cars = ['audi', 'golf', 'subaru']\n",
    "\n",
    "if desired_car in available_cars:\n",
    "    print (\"Yes! We have a \" + desired_car.title() + \" for you!\")\n",
    "else:\n",
    "    print (\"Sorry, we don't have a \" + desired_car.title() + \"!\")   \n"
   ]
  },
  {
   "cell_type": "code",
   "execution_count": 38,
   "metadata": {},
   "outputs": [
    {
     "name": "stdout",
     "output_type": "stream",
     "text": [
      "Enter a number and I will tell if it is a multiple of 10:50\n",
      "The 50 is multiple of 10\n"
     ]
    }
   ],
   "source": [
    "#Multiple of tens - ask a input and tell if the number is a multiple of 10\n",
    "\n",
    "number = input(\"Enter a number and I will tell if it is a multiple of 10:\")\n",
    "number = int(number)\n",
    "\n",
    "if number%10 == 0:\n",
    "    print (\"The \" + str(number) + \" is multiple of 10\")\n",
    "else:\n",
    "    print (\"Sorry, the \" + str(number) + \"is not a multiple of 10\")\n"
   ]
  },
  {
   "cell_type": "markdown",
   "metadata": {},
   "source": [
    "### Introducing while loops"
   ]
  },
  {
   "cell_type": "markdown",
   "metadata": {},
   "source": [
    "The \"for\" loop takes a collection of items and execute a block of code once for each item. In contrast, the \"while\" loop runs as long as a certain condition is true."
   ]
  },
  {
   "cell_type": "code",
   "execution_count": 40,
   "metadata": {},
   "outputs": [
    {
     "name": "stdout",
     "output_type": "stream",
     "text": [
      "1\n",
      "2\n",
      "3\n",
      "4\n",
      "5\n"
     ]
    }
   ],
   "source": [
    "#While loop to count to five\n",
    "\n",
    "current_number = 1\n",
    "while current_number <= 5:\n",
    "    print(current_number)\n",
    "    current_number += 1  #the operator is short hand for current_number +1"
   ]
  },
  {
   "cell_type": "code",
   "execution_count": 42,
   "metadata": {},
   "outputs": [
    {
     "name": "stdout",
     "output_type": "stream",
     "text": [
      "\n",
      "Tell me something, and I will repeat it back to you: \n",
      "Enter 'quit' to end the program.carro\n",
      "carro\n",
      "\n",
      "Tell me something, and I will repeat it back to you: \n",
      "Enter 'quit' to end the program.cadeira\n",
      "cadeira\n",
      "\n",
      "Tell me something, and I will repeat it back to you: \n",
      "Enter 'quit' to end the program.boca\n",
      "boca\n",
      "\n",
      "Tell me something, and I will repeat it back to you: \n",
      "Enter 'quit' to end the program.quit\n",
      "quit\n"
     ]
    }
   ],
   "source": [
    "#Asking the user to quit\n",
    "#we start with two options (entering a message or a 'quit')\n",
    "prompt = \"\\nTell me something, and I will repeat it back to you: \"\n",
    "prompt += \"\\nEnter 'quit' to end the program.\"\n",
    "\n",
    "#the first time python reaches this it has no message, so we set as empty\n",
    "#string\n",
    "message =\"\"\n",
    "\n",
    "while message != 'quit':\n",
    "    message = input(prompt)\n",
    "    print (message) \n"
   ]
  },
  {
   "cell_type": "code",
   "execution_count": 43,
   "metadata": {},
   "outputs": [
    {
     "name": "stdout",
     "output_type": "stream",
     "text": [
      "\n",
      "Tell me something, and I will repeat it back to you: \n",
      "Enter 'quit' to end the program.hello\n",
      "\n",
      "Tell me something, and I will repeat it back to you: \n",
      "Enter 'quit' to end the program.hello again\n",
      "\n",
      "Tell me something, and I will repeat it back to you: \n",
      "Enter 'quit' to end the program.quit\n"
     ]
    }
   ],
   "source": [
    "#Now cleaning the last quit from the user interface\n",
    "\n",
    "prompt = \"\\nTell me something, and I will repeat it back to you: \"\n",
    "prompt += \"\\nEnter 'quit' to end the program.\"\n",
    "\n",
    "message =\"\"\n",
    "\n",
    "while message != 'quit':\n",
    "    message = input(prompt)\n",
    "\n",
    "if message != 'quit':\n",
    "    print (message)\n",
    "\n",
    "    "
   ]
  },
  {
   "cell_type": "markdown",
   "metadata": {},
   "source": [
    "### Using a Flag"
   ]
  },
  {
   "cell_type": "markdown",
   "metadata": {},
   "source": [
    "For a program that should run only as long as many conditions are tru, you can define a variable that determines whether or not the entire program is active. \n",
    "\n",
    "This variable is called a flag, acts as a signal to the program. "
   ]
  },
  {
   "cell_type": "code",
   "execution_count": 44,
   "metadata": {},
   "outputs": [
    {
     "name": "stdout",
     "output_type": "stream",
     "text": [
      "\n",
      "Tell me something, and I will repeat it back to you: \n",
      "Enter 'quit' to end the program.hello\n",
      "hello\n",
      "\n",
      "Tell me something, and I will repeat it back to you: \n",
      "Enter 'quit' to end the program.hello again\n",
      "hello again\n",
      "\n",
      "Tell me something, and I will repeat it back to you: \n",
      "Enter 'quit' to end the program.quit\n"
     ]
    }
   ],
   "source": [
    "prompt = \"\\nTell me something, and I will repeat it back to you: \"\n",
    "prompt += \"\\nEnter 'quit' to end the program.\"\n",
    "\n",
    "active = True\n",
    "while active:\n",
    "    message = input(prompt)\n",
    "\n",
    "    if message == 'quit':\n",
    "        active = False\n",
    "    else:\n",
    "        print (message)\n",
    "    \n"
   ]
  },
  {
   "cell_type": "markdown",
   "metadata": {},
   "source": [
    "### Using break to Exit a Loop"
   ]
  },
  {
   "cell_type": "markdown",
   "metadata": {},
   "source": [
    "Use \"break\" statement to exit a loop regardless of the results of any conditionals tests"
   ]
  },
  {
   "cell_type": "code",
   "execution_count": 45,
   "metadata": {},
   "outputs": [
    {
     "name": "stdout",
     "output_type": "stream",
     "text": [
      "\n",
      "Please enter the name of city you visited:  \n",
      "Enter 'quit' to end the program.Roma\n",
      "I'd love to go to Roma!\n",
      "\n",
      "Please enter the name of city you visited:  \n",
      "Enter 'quit' to end the program.Amsterdam\n",
      "I'd love to go to Amsterdam!\n",
      "\n",
      "Please enter the name of city you visited:  \n",
      "Enter 'quit' to end the program.quit\n"
     ]
    }
   ],
   "source": [
    "#break example\n",
    "prompt = \"\\nPlease enter the name of city you visited:  \"\n",
    "prompt += \"\\nEnter 'quit' to end the program.\"\n",
    "\n",
    "while True:\n",
    "    city = input(prompt)\n",
    "    if city == 'quit':\n",
    "        break\n",
    "    else:\n",
    "        print (\"I'd love to go to \" + city.title() + \"!\")\n",
    "    "
   ]
  },
  {
   "cell_type": "markdown",
   "metadata": {},
   "source": [
    "### Using continue in a Loop"
   ]
  },
  {
   "cell_type": "markdown",
   "metadata": {},
   "source": [
    "Use \"continue\" to return to the beginning of the loop based on the result of a conditional test"
   ]
  },
  {
   "cell_type": "code",
   "execution_count": 51,
   "metadata": {},
   "outputs": [
    {
     "name": "stdout",
     "output_type": "stream",
     "text": [
      "1\n",
      "3\n",
      "5\n",
      "7\n",
      "9\n"
     ]
    }
   ],
   "source": [
    "#example of continue\n",
    "#Counts 1 to 10, but only print the odd numbers in tha range\n",
    "\n",
    "current_number = 0\n",
    "while current_number < 10:\n",
    "    current_number+= 1\n",
    " #if the number is odd goes back to the loop\n",
    "    if current_number%2==0:\n",
    "        continue\n",
    "    \n",
    "    print (current_number)"
   ]
  },
  {
   "cell_type": "markdown",
   "metadata": {},
   "source": [
    "To avoid a infinite loop use \"CRTL + C\""
   ]
  },
  {
   "cell_type": "markdown",
   "metadata": {},
   "source": [
    "### Exercises\n"
   ]
  },
  {
   "cell_type": "markdown",
   "metadata": {},
   "source": [
    "Pizza toppings. Write a lop that prompts the user to enter a series of pizza toopings until they quit. for each topic, print a message saying you will add the topping to the pizza"
   ]
  },
  {
   "cell_type": "code",
   "execution_count": 4,
   "metadata": {},
   "outputs": [
    {
     "name": "stdout",
     "output_type": "stream",
     "text": [
      "\n",
      "Please enter your desired toppings: Enter 'quit' to stop. mushrooms\n",
      " Adding Mushrooms to the pizza!\n",
      "\n",
      "Please enter your desired toppings: Enter 'quit' to stop. peperoni\n",
      " Adding Peperoni to the pizza!\n",
      "\n",
      "Please enter your desired toppings: Enter 'quit' to stop. extra cheese\n",
      " Adding Extra Cheese to the pizza!\n",
      "\n",
      "Please enter your desired toppings: Enter 'quit' to stop. quit\n",
      "['mushrooms', 'peperoni', 'extra cheese']\n"
     ]
    }
   ],
   "source": [
    "#Pizza topping\n",
    "\n",
    "prompt = \"\\nPlease enter your desired toppings: \"\n",
    "prompt += \"Enter 'quit' to stop. \"\n",
    "\n",
    "pizza = []\n",
    "\n",
    "while True:\n",
    "    toppings = input(prompt)\n",
    "    \n",
    "    if toppings != 'quit':\n",
    "        pizza.append (toppings)\n",
    "        print (\" Adding \" + toppings.title() + \" to the pizza!\")\n",
    "        \n",
    "    else:\n",
    "        print (pizza)\n",
    "        break\n",
    "\n",
    "    "
   ]
  },
  {
   "cell_type": "markdown",
   "metadata": {},
   "source": [
    "### Using a while Loop with Lists and Dictionaries"
   ]
  },
  {
   "cell_type": "markdown",
   "metadata": {},
   "source": [
    "A \"for loop\" is effective for looping through a list, but you shouldn't modify a list inside a \"for loop\", because Python will have trouble keeping track of the items in the list. \n",
    "\n",
    "To modify a list , it is better to use a \"while loop\". Using while loops allow you to collect, store and organize lots of input to examine and report later.\n"
   ]
  },
  {
   "cell_type": "markdown",
   "metadata": {},
   "source": [
    "#### Moving items from one list to another\n",
    "\n",
    "List of newly registered users - after we verify it we want to move it to confirmed users."
   ]
  },
  {
   "cell_type": "code",
   "execution_count": 2,
   "metadata": {},
   "outputs": [
    {
     "name": "stdout",
     "output_type": "stream",
     "text": [
      "Verifying user:Candace\n",
      "Verifying user:Brian\n",
      "Verifying user:Alice\n",
      "\n",
      "The following users have been confirmed:\n",
      "Candace\n",
      "Brian\n",
      "Alice\n"
     ]
    }
   ],
   "source": [
    "# Start with users that need to be verified,\n",
    "# empty list to hold confirmed users.\n",
    "\n",
    "unconfirmed_users = ['alice', 'brian', 'candace']\n",
    "confirmed_users = []\n",
    "\n",
    "#Verify each user until there are no more unconfirmed users.\n",
    "#Move each verified user into the list of confirmed users\n",
    "while unconfirmed_users:\n",
    "    current_user = unconfirmed_users.pop()\n",
    "    print (\"Verifying user:\" +current_user.title())\n",
    "    confirmed_users.append(current_user)\n",
    "    \n",
    "# Display all confirmed users\n",
    "print (\"\\nThe following users have been confirmed:\")\n",
    "for confirmed_user in confirmed_users:\n",
    "    print (confirmed_user.title())\n",
    "    "
   ]
  },
  {
   "cell_type": "code",
   "execution_count": 3,
   "metadata": {},
   "outputs": [
    {
     "name": "stdout",
     "output_type": "stream",
     "text": [
      "[]\n"
     ]
    }
   ],
   "source": [
    "print(unconfirmed_users)"
   ]
  },
  {
   "cell_type": "code",
   "execution_count": 5,
   "metadata": {},
   "outputs": [
    {
     "name": "stdout",
     "output_type": "stream",
     "text": [
      "['candace', 'brian', 'alice']\n"
     ]
    }
   ],
   "source": [
    "print(confirmed_users)"
   ]
  },
  {
   "cell_type": "markdown",
   "metadata": {},
   "source": [
    "### Removing All instances of specific values from a list"
   ]
  },
  {
   "cell_type": "code",
   "execution_count": 9,
   "metadata": {},
   "outputs": [
    {
     "name": "stdout",
     "output_type": "stream",
     "text": [
      "['dog', 'cat', 'dog', 'goldfish', 'cat', 'rabbit', 'cat']\n"
     ]
    }
   ],
   "source": [
    "pets = ['dog', 'cat', 'dog', 'goldfish', 'cat', 'rabbit', 'cat']\n",
    "print(pets)"
   ]
  },
  {
   "cell_type": "code",
   "execution_count": 10,
   "metadata": {},
   "outputs": [
    {
     "data": {
      "text/plain": [
       "{'cat', 'dog', 'goldfish', 'rabbit'}"
      ]
     },
     "execution_count": 10,
     "metadata": {},
     "output_type": "execute_result"
    }
   ],
   "source": [
    "#show unique values\n",
    "set(pets) "
   ]
  },
  {
   "cell_type": "code",
   "execution_count": 11,
   "metadata": {},
   "outputs": [
    {
     "name": "stdout",
     "output_type": "stream",
     "text": [
      "['dog', 'dog', 'goldfish', 'rabbit']\n"
     ]
    }
   ],
   "source": [
    "#removing all instance of cats\n",
    "while 'cat' in pets:\n",
    "    pets.remove ('cat')\n",
    "print(pets)"
   ]
  },
  {
   "cell_type": "markdown",
   "metadata": {},
   "source": [
    "### Filling a dictionary with a user Input"
   ]
  },
  {
   "cell_type": "code",
   "execution_count": 14,
   "metadata": {},
   "outputs": [
    {
     "name": "stdout",
     "output_type": "stream",
     "text": [
      "\n",
      "What is your name?abaco\n",
      "Which mountain would like to climb someday?matchopinto\n",
      "Would like to let another person to respond? (yes/no)yes\n",
      "\n",
      "What is your name?bobaco\n",
      "Which mountain would like to climb someday?everesto\n",
      "Would like to let another person to respond? (yes/no)yes\n",
      "\n",
      "What is your name?caboco\n",
      "Which mountain would like to climb someday?k69\n",
      "Would like to let another person to respond? (yes/no)no\n",
      "\n",
      "----Poll Results---\n",
      "Abaco would like to climb Matchopinto.\n",
      "Bobaco would like to climb Everesto.\n",
      "Caboco would like to climb K69.\n"
     ]
    }
   ],
   "source": [
    "#Collecting responses for a pool\n",
    "responses = {}\n",
    "\n",
    "#Set a flag to indicate the pooling is active.\n",
    "polling_active = True\n",
    "\n",
    "while polling_active:\n",
    "    #Prompt for the person's name and response\n",
    "    name = input (\"\\nWhat is your name?\")\n",
    "    response = input (\"Which mountain would like to climb someday?\")\n",
    "    \n",
    "    #Store the responses in the dictionary.\n",
    "    responses[name] = response\n",
    "    \n",
    "    #Find out if anyone else is going to take the pool\n",
    "    repeat = input (\"Would like to let another person to respond? (yes/no)\")\n",
    "    repeat = repeat.lower()\n",
    "    if repeat == 'no':\n",
    "        polling_active = False\n",
    "        \n",
    "#Polling is completed. Show the results\n",
    "print (\"\\n----Poll Results---\")\n",
    "for name, response in responses.items():\n",
    "    print (name.title() + \" would like to climb \" + response.title() + \".\")\n",
    "    "
   ]
  },
  {
   "cell_type": "markdown",
   "metadata": {},
   "source": [
    "### Exercises"
   ]
  },
  {
   "cell_type": "markdown",
   "metadata": {},
   "source": [
    "#### exercise 1\n",
    "Deli - make a list of orders and finished orders. Move the orders to finished orders, printing the message."
   ]
  },
  {
   "cell_type": "code",
   "execution_count": 21,
   "metadata": {},
   "outputs": [
    {
     "name": "stdout",
     "output_type": "stream",
     "text": [
      "Sandwich of ham is finished.\n",
      "Sandwich of salmon is finished.\n",
      "Sandwich of tuna is finished.\n",
      "\n",
      "Sandwiches delivered:\n",
      "Ham delivered.\n",
      "Salmon delivered.\n",
      "Tuna delivered.\n"
     ]
    }
   ],
   "source": [
    "#getting the  sandwiches orders\n",
    "sandwiches_orders = ['tuna', 'salmon', 'ham']\n",
    "finished_sandwiches = []\n",
    "\n",
    "#making the sandwiches\n",
    "while sandwiches_orders:\n",
    "    finish_sandwich = sandwiches_orders.pop()\n",
    "    finished_sandwiches.append(finish_sandwich)\n",
    "    print(\"Sandwich of \" + finish_sandwich + \" is finished.\")\n",
    "\n",
    "#All sandwhiches made\n",
    "\n",
    "print (\"\\nSandwiches delivered:\")\n",
    "for finish_sandwich in finished_sandwiches:\n",
    "    print (finish_sandwich.title() + \" delivered.\")\n",
    "    "
   ]
  },
  {
   "cell_type": "markdown",
   "metadata": {},
   "source": [
    "#### Exercise 2 - Removing items from the list"
   ]
  },
  {
   "cell_type": "code",
   "execution_count": 22,
   "metadata": {},
   "outputs": [
    {
     "name": "stdout",
     "output_type": "stream",
     "text": [
      "['tuna', 'salmon', 'ham']\n"
     ]
    }
   ],
   "source": [
    "sandwiches_orders = ['pastrami', 'tuna','pastrami', 'salmon','pastrami', 'ham']\n",
    "\n",
    "while 'pastrami' in sandwiches_orders:\n",
    "    sandwiches_orders.remove('pastrami')\n",
    "    \n",
    "print(sandwiches_orders)"
   ]
  },
  {
   "cell_type": "markdown",
   "metadata": {},
   "source": [
    "#### Exercise 3\n",
    "\n",
    "Dream vacation input"
   ]
  },
  {
   "cell_type": "code",
   "execution_count": 3,
   "metadata": {},
   "outputs": [
    {
     "name": "stdout",
     "output_type": "stream",
     "text": [
      "What is your name: gabriel\n",
      "What is your dream vacation place?maldivas\n",
      "Do you want another one to responde? (yes/no)yes\n",
      "What is your name: mirele\n",
      "What is your dream vacation place?maldivas\n",
      "Do you want another one to responde? (yes/no)yes\n",
      "What is your name: leticia\n",
      "What is your dream vacation place?canoas\n",
      "Do you want another one to responde? (yes/no)no\n",
      "\n",
      "Results:\n",
      "Gabriel's dream vacation is Maldivas.\n",
      "Mirele's dream vacation is Maldivas.\n",
      "Leticia's dream vacation is Canoas.\n"
     ]
    }
   ],
   "source": [
    "#Making the pool\n",
    "\n",
    "dream_vacation = {}\n",
    "\n",
    "polling_active = True\n",
    "\n",
    "while polling_active:\n",
    "    #making the pool\n",
    "    name = input (\"What is your name: \")\n",
    "    response = input (\"What is your dream vacation place?\")\n",
    "    \n",
    "    #storing the response\n",
    "    dream_vacation[name] = response\n",
    "    \n",
    "    \n",
    "    #stopping the pool.\n",
    "    repeat = input (\"Do you want another one to responde? (yes/no)\")\n",
    "    repeat = repeat.lower()\n",
    "    if repeat == 'no':\n",
    "        polling_active = False\n",
    "\n",
    "#Printing the polling results\n",
    "\n",
    "print (\"\\nResults:\")\n",
    "for name, response in dream_vacation.items():\n",
    "    print (name.title() + \"'s dream vacation is \" + response.title() + \".\")"
   ]
  },
  {
   "cell_type": "code",
   "execution_count": null,
   "metadata": {},
   "outputs": [],
   "source": []
  }
 ],
 "metadata": {
  "kernelspec": {
   "display_name": "Python 3",
   "language": "python",
   "name": "python3"
  },
  "language_info": {
   "codemirror_mode": {
    "name": "ipython",
    "version": 3
   },
   "file_extension": ".py",
   "mimetype": "text/x-python",
   "name": "python",
   "nbconvert_exporter": "python",
   "pygments_lexer": "ipython3",
   "version": "3.6.9"
  }
 },
 "nbformat": 4,
 "nbformat_minor": 2
}
