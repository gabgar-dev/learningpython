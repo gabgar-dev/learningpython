{
 "cells": [
  {
   "cell_type": "code",
   "execution_count": 1,
   "metadata": {},
   "outputs": [],
   "source": [
    "def greet_user():\n",
    "    \"\"\"Display a simple greeting\"\"\"\n",
    "    print(\"Hello!\")"
   ]
  },
  {
   "cell_type": "code",
   "execution_count": 2,
   "metadata": {},
   "outputs": [
    {
     "name": "stdout",
     "output_type": "stream",
     "text": [
      "Hello!\n"
     ]
    }
   ],
   "source": [
    "greet_user()"
   ]
  },
  {
   "cell_type": "markdown",
   "metadata": {},
   "source": [
    "The line at (1) use \"def\" - which is a function definition\n",
    "\n",
    "Any idented lines make the body of the function\n",
    "\n",
    "The text is a comment called \"docstring\", which describes what a function does - they are enclosed in triple quotes, which Python used for documentation"
   ]
  },
  {
   "cell_type": "markdown",
   "metadata": {},
   "source": [
    "### Passing Information to a Function"
   ]
  },
  {
   "cell_type": "code",
   "execution_count": 3,
   "metadata": {},
   "outputs": [],
   "source": [
    "def greet_user(username):\n",
    "    \"\"\"Display a simple greeting\"\"\"\n",
    "    print(\"Hello, \" + username.title() + \"!\")"
   ]
  },
  {
   "cell_type": "code",
   "execution_count": 4,
   "metadata": {},
   "outputs": [
    {
     "name": "stdout",
     "output_type": "stream",
     "text": [
      "Hello, Gabriel!\n"
     ]
    }
   ],
   "source": [
    "greet_user(\"Gabriel\")"
   ]
  },
  {
   "cell_type": "markdown",
   "metadata": {},
   "source": [
    "### Arguments and Parameters"
   ]
  },
  {
   "cell_type": "markdown",
   "metadata": {},
   "source": [
    "In the previous function, we defined greet_user() to require a value for the variable \"username\". This variable is an example of a parameter. A piece of information required for the function to do the job.\n",
    "\n",
    "the value 'Gabriel' is an example of a argument.\n",
    "\n",
    "NOTE: People sometimes refer to parameter and argument as interchangeables."
   ]
  },
  {
   "cell_type": "markdown",
   "metadata": {},
   "source": [
    "##### Exercise"
   ]
  },
  {
   "cell_type": "code",
   "execution_count": 5,
   "metadata": {},
   "outputs": [],
   "source": [
    "# favorite book\n",
    "\n",
    "def favorite_book(title):\n",
    "    \"\"\"Returns the favorite book\"\"\"\n",
    "    print(title.title() + \" is one of your favorite books.\")"
   ]
  },
  {
   "cell_type": "code",
   "execution_count": 6,
   "metadata": {},
   "outputs": [
    {
     "name": "stdout",
     "output_type": "stream",
     "text": [
      "Lord Of The Rings is one of your favorite books.\n"
     ]
    }
   ],
   "source": [
    "favorite_book('Lord of the Rings')"
   ]
  },
  {
   "cell_type": "markdown",
   "metadata": {},
   "source": [
    "##### You can pass multiple arguments"
   ]
  },
  {
   "cell_type": "code",
   "execution_count": 7,
   "metadata": {},
   "outputs": [],
   "source": [
    "def describe_pet(animal_type, pet_name):\n",
    "    \"\"\"Display info about a pet\"\"\"\n",
    "    print(\"\\nI have a \" +animal_type + \".\")\n",
    "    print (\"My \" +animal_type + \" name is \" + pet_name.title() + \".\")"
   ]
  },
  {
   "cell_type": "code",
   "execution_count": 8,
   "metadata": {},
   "outputs": [
    {
     "name": "stdout",
     "output_type": "stream",
     "text": [
      "\n",
      "I have a dog.\n",
      "My dog name is Nero.\n"
     ]
    }
   ],
   "source": [
    "describe_pet('dog','nero')"
   ]
  },
  {
   "cell_type": "markdown",
   "metadata": {},
   "source": [
    "#### Order matter in positional arguments"
   ]
  },
  {
   "cell_type": "code",
   "execution_count": 9,
   "metadata": {},
   "outputs": [
    {
     "name": "stdout",
     "output_type": "stream",
     "text": [
      "\n",
      "I have a nero.\n",
      "My nero name is Dog.\n"
     ]
    }
   ],
   "source": [
    "describe_pet('nero','dog')"
   ]
  },
  {
   "cell_type": "markdown",
   "metadata": {},
   "source": [
    "#### Keyword Argument"
   ]
  },
  {
   "cell_type": "markdown",
   "metadata": {},
   "source": [
    "It is name-value pair that you specified to the function. in this way, there is no confusion"
   ]
  },
  {
   "cell_type": "code",
   "execution_count": 10,
   "metadata": {},
   "outputs": [
    {
     "name": "stdout",
     "output_type": "stream",
     "text": [
      "\n",
      "I have a dog.\n",
      "My dog name is Nero.\n",
      "\n",
      "Order does not matter when using keyword arguments:\n",
      "\n",
      "I have a dog.\n",
      "My dog name is Nero.\n"
     ]
    }
   ],
   "source": [
    "describe_pet(animal_type ='dog',pet_name = 'nero')\n",
    "\n",
    "#order does not matter then\n",
    "print (\"\\nOrder does not matter when using keyword arguments:\")\n",
    "describe_pet(pet_name = 'nero', animal_type ='dog')"
   ]
  },
  {
   "cell_type": "markdown",
   "metadata": {},
   "source": [
    "#### Default values"
   ]
  },
  {
   "cell_type": "code",
   "execution_count": 11,
   "metadata": {},
   "outputs": [],
   "source": [
    "def describe_pet(pet_name, animal_type='dog'):\n",
    "    \"\"\"Display info about a pet\"\"\"\n",
    "    print(\"\\nI have a \" +animal_type + \".\")\n",
    "    print (\"My \" +animal_type + \" name is \" + pet_name.title() + \".\")"
   ]
  },
  {
   "cell_type": "markdown",
   "metadata": {},
   "source": [
    "Now when then function is called without a animal type specified, Python knows to the value 'dog'."
   ]
  },
  {
   "cell_type": "code",
   "execution_count": 12,
   "metadata": {},
   "outputs": [
    {
     "name": "stdout",
     "output_type": "stream",
     "text": [
      "\n",
      "I have a dog.\n",
      "My dog name is Nero.\n"
     ]
    }
   ],
   "source": [
    "#With default\n",
    "describe_pet('nero')"
   ]
  },
  {
   "cell_type": "code",
   "execution_count": 13,
   "metadata": {},
   "outputs": [
    {
     "name": "stdout",
     "output_type": "stream",
     "text": [
      "\n",
      "I have a cat.\n",
      "My cat name is Nero.\n"
     ]
    }
   ],
   "source": [
    "#With default - specifiyng a value for animal type\n",
    "describe_pet('nero', 'cat')"
   ]
  },
  {
   "cell_type": "markdown",
   "metadata": {},
   "source": [
    "Because of the way arguments and varibles works, you have several ways to call a function"
   ]
  },
  {
   "cell_type": "code",
   "execution_count": 14,
   "metadata": {},
   "outputs": [
    {
     "ename": "TypeError",
     "evalue": "describe_pet() missing 1 required positional argument: 'pet_name'",
     "output_type": "error",
     "traceback": [
      "\u001b[0;31m---------------------------------------------------------------------------\u001b[0m",
      "\u001b[0;31mTypeError\u001b[0m                                 Traceback (most recent call last)",
      "\u001b[0;32m<ipython-input-14-547dcf5001b0>\u001b[0m in \u001b[0;36m<module>\u001b[0;34m()\u001b[0m\n\u001b[1;32m      1\u001b[0m \u001b[0;31m#see error\u001b[0m\u001b[0;34m\u001b[0m\u001b[0;34m\u001b[0m\u001b[0;34m\u001b[0m\u001b[0m\n\u001b[0;32m----> 2\u001b[0;31m \u001b[0mdescribe_pet\u001b[0m\u001b[0;34m(\u001b[0m\u001b[0;34m)\u001b[0m\u001b[0;34m\u001b[0m\u001b[0;34m\u001b[0m\u001b[0m\n\u001b[0m",
      "\u001b[0;31mTypeError\u001b[0m: describe_pet() missing 1 required positional argument: 'pet_name'"
     ]
    }
   ],
   "source": [
    "#see error\n",
    "describe_pet()"
   ]
  },
  {
   "cell_type": "markdown",
   "metadata": {},
   "source": [
    "### Return Values"
   ]
  },
  {
   "cell_type": "markdown",
   "metadata": {},
   "source": [
    "The value the function returns is called \"return value\"\n",
    "\n",
    "Return values allow you to move much of your program's grunt work into functions, which can simplify the body of your program.\n",
    "\n",
    "Instead of print, which is focused on display data."
   ]
  },
  {
   "cell_type": "code",
   "execution_count": null,
   "metadata": {},
   "outputs": [],
   "source": [
    "def get_formatted_name(first_name, last_name):\n",
    "    \"\"\"Return full name, neatly formatted\"\"\"\n",
    "    full_name = first_name +\" \"+last_name\n",
    "    return full_name.title()\n",
    "\n",
    "musician = get_formatted_name('jimi', 'hendrix')\n",
    "print(musician)"
   ]
  },
  {
   "cell_type": "markdown",
   "metadata": {},
   "source": [
    "### Making an argument optional"
   ]
  },
  {
   "cell_type": "markdown",
   "metadata": {},
   "source": [
    "Example, lets say you want to expand then format name function to include middle name (as optional)"
   ]
  },
  {
   "cell_type": "code",
   "execution_count": null,
   "metadata": {},
   "outputs": [],
   "source": [
    "def get_formatted_name(first_name, middle_name, last_name):\n",
    "    \"\"\"Return full name, neatly formatted\"\"\"\n",
    "    if middle_name:\n",
    "        full_name = first_name +\" \"+ middle_name + \" \"+ last_name\n",
    "    else:\n",
    "         full_name = first_name +\" \"+ last_name\n",
    "    return full_name.title()"
   ]
  },
  {
   "cell_type": "code",
   "execution_count": null,
   "metadata": {},
   "outputs": [],
   "source": [
    "## forcing a error\n",
    "musician = get_formatted_name('jimi','hendrix')\n",
    "print(musician)"
   ]
  },
  {
   "cell_type": "code",
   "execution_count": null,
   "metadata": {},
   "outputs": [],
   "source": [
    "#now with the correction\n",
    "#middle name default is nothing\n",
    "def get_formatted_name(first_name, last_name, middle_name =\"\"):\n",
    "    \"\"\"Return full name, neatly formatted\"\"\"\n",
    "   #Python interprets non-empty strings as True and empty as false.\n",
    "    if middle_name:\n",
    "        full_name = first_name +\" \"+ middle_name + \" \"+ last_name\n",
    "    else:\n",
    "         full_name = first_name +\" \"+ last_name\n",
    "    return full_name.title()"
   ]
  },
  {
   "cell_type": "code",
   "execution_count": null,
   "metadata": {},
   "outputs": [],
   "source": [
    "musician = get_formatted_name('jimi','hendrix')\n",
    "print(musician)"
   ]
  },
  {
   "cell_type": "code",
   "execution_count": null,
   "metadata": {},
   "outputs": [],
   "source": [
    "musician = get_formatted_name('jimi','hendrix', 'lee')\n",
    "print(musician)"
   ]
  },
  {
   "cell_type": "markdown",
   "metadata": {},
   "source": [
    "#### Important - in Python, always the default parameter last"
   ]
  },
  {
   "cell_type": "markdown",
   "metadata": {},
   "source": [
    "### Returning a Dictionary"
   ]
  },
  {
   "cell_type": "markdown",
   "metadata": {},
   "source": [
    "    A function can return any value you need it, including more complicated data structures."
   ]
  },
  {
   "cell_type": "code",
   "execution_count": null,
   "metadata": {},
   "outputs": [],
   "source": [
    "def build_person(first_name, last_name):\n",
    "    \"\"\"Return a dictionary of information about a person\"\"\"\n",
    "    person = {'first': first_name, 'last': last_name}\n",
    "    return person\n"
   ]
  },
  {
   "cell_type": "code",
   "execution_count": null,
   "metadata": {},
   "outputs": [],
   "source": [
    "musician = build_person('jimi', 'hendrix')\n",
    "print (musician)"
   ]
  },
  {
   "cell_type": "markdown",
   "metadata": {},
   "source": [
    "This function takes in simple textual information and puts it into more meaningfull data structure that lets you work with the information beyond just printing it.  "
   ]
  },
  {
   "cell_type": "code",
   "execution_count": null,
   "metadata": {},
   "outputs": [],
   "source": [
    "#adding more data - age as optional\n",
    "def build_person(first_name, last_name, age=\"\"):\n",
    "    \"\"\"Return a dictionary of information about a person\"\"\"\n",
    "    person = {'first': first_name, 'last': last_name}\n",
    "    if age:\n",
    "        person ['age'] = age\n",
    "    return person\n"
   ]
  },
  {
   "cell_type": "code",
   "execution_count": null,
   "metadata": {},
   "outputs": [],
   "source": [
    "musician = build_person('jimi', 'hendrix', 27)\n",
    "print (musician)"
   ]
  },
  {
   "cell_type": "markdown",
   "metadata": {},
   "source": [
    "### Using a function with a while Loop"
   ]
  },
  {
   "cell_type": "code",
   "execution_count": null,
   "metadata": {},
   "outputs": [],
   "source": [
    "def get_formatted_name (first_name, last_name):\n",
    "    \"\"\"Return a full name, neatly formatted\"\"\"\n",
    "    full_name = first_name + \" \" + last_name\n",
    "    return full_name.title()"
   ]
  },
  {
   "cell_type": "code",
   "execution_count": null,
   "metadata": {},
   "outputs": [],
   "source": [
    "#This is a infinite loop\n",
    "#while True:\n",
    "    print (\"\\nPlease tell me your name:\")\n",
    "    f_name = input(\"First name:\")\n",
    "    l_name = input ('Last name:')\n",
    "    \n",
    "    formatted_name = get_formatted_name(f_name, l_name)\n",
    "    print (\"\\nHello \" + formatted_name + \"!\")"
   ]
  },
  {
   "cell_type": "code",
   "execution_count": null,
   "metadata": {},
   "outputs": [],
   "source": [
    "# Corrected loop - with a option to quit\n",
    "\n",
    "while True:\n",
    "    print (\"\\nPlease tell me your name:\")\n",
    "    f_name = input(\"First name:\")\n",
    "    print (\"Enter 'q' to quit at any time:\")\n",
    "    \n",
    "    if f_name == 'q':\n",
    "        break\n",
    "       \n",
    "    l_name = input ('Last name:')\n",
    "   \n",
    "    if l_name == 'q':\n",
    "        break\n",
    "    \n",
    "    \n",
    "    formatted_name = get_formatted_name(f_name, l_name)\n",
    "    print (\"\\nHello \" + formatted_name + \"!\")"
   ]
  },
  {
   "cell_type": "markdown",
   "metadata": {},
   "source": [
    "### Exercise"
   ]
  },
  {
   "cell_type": "code",
   "execution_count": null,
   "metadata": {},
   "outputs": [],
   "source": [
    "#Create a function that store in a dictionary the info \n",
    "#of game publishers, games \n",
    "#add ow many hours the game has\n",
    "\n",
    "#Function\n",
    "\n",
    "def games_info (publisher_name, game_name, game_duration =\"\"):\n",
    "    \"\"\"Return a dictionary of game info\"\"\"\n",
    "    \n",
    "    game_info = {'publisher': publisher_name, 'Name of Game': game_name}\n",
    "    \n",
    "    if game_duration:\n",
    "        game_info['Game Duration'] = game_duration\n",
    "        \n",
    "    return game_info"
   ]
  },
  {
   "cell_type": "code",
   "execution_count": null,
   "metadata": {},
   "outputs": [],
   "source": [
    "games_info ('blizzard', 'diablo', 30)"
   ]
  },
  {
   "cell_type": "code",
   "execution_count": null,
   "metadata": {},
   "outputs": [],
   "source": [
    "formatted_game = games_info ('blizzard', 'diablo', 30)\n",
    "print (\"This is the publisher: \" + formatted_game['publisher'].title())"
   ]
  },
  {
   "cell_type": "markdown",
   "metadata": {},
   "source": [
    "### Passing a list"
   ]
  },
  {
   "cell_type": "markdown",
   "metadata": {},
   "source": [
    "Often useful to pass a list to a function, wheter it's a list of names, numbers or more complex objects."
   ]
  },
  {
   "cell_type": "code",
   "execution_count": null,
   "metadata": {},
   "outputs": [],
   "source": [
    "def greet_users(names):\n",
    "    \"\"\"Print simple greeting each user in the list\"\"\"\n",
    "    for name in names:\n",
    "        msg = \"Hello, \" + name.title() + \"!\"\n",
    "        print (msg)"
   ]
  },
  {
   "cell_type": "code",
   "execution_count": null,
   "metadata": {},
   "outputs": [],
   "source": [
    "usernames = ['hannah', 'ty', 'margot']"
   ]
  },
  {
   "cell_type": "code",
   "execution_count": null,
   "metadata": {},
   "outputs": [],
   "source": [
    "greet_users(usernames)"
   ]
  },
  {
   "cell_type": "markdown",
   "metadata": {},
   "source": [
    "### Modifying a List in a Function"
   ]
  },
  {
   "cell_type": "markdown",
   "metadata": {},
   "source": [
    "When you pass a list to a function , the function can modify the list."
   ]
  },
  {
   "cell_type": "code",
   "execution_count": null,
   "metadata": {},
   "outputs": [],
   "source": [
    "#start with some designs that need to be printed\n",
    "unprinted_designs = ['iphone case', 'robot pendant', 'dodecahedron']\n",
    "completed_models = []\n",
    "\n",
    "#simulating printing each design, untl none are left\n",
    "#move each completed_models after printing.\n",
    "while unprinted_designs:\n",
    "    current_design = unprinted_designs.pop()\n",
    "    \n",
    "    #Simulate creating a 3D print from the design.\n",
    "    print(\"Priting model: \" + current_design)\n",
    "    completed_models.append(current_design)\n",
    "\n",
    "#Display all completed models\n",
    "print (\"\\nThe following models have been printed:\")\n",
    "for completed_model in completed_models:\n",
    "    print(completed_model)"
   ]
  },
  {
   "cell_type": "code",
   "execution_count": null,
   "metadata": {},
   "outputs": [],
   "source": [
    "#organize the code writing two functions\n",
    "\n",
    "def print_models(unprinted_designs, completed_models):\n",
    "    \"\"\"Simulate printing designs, until none are left,\n",
    "    move each design to completed_models after printing5\"\"\"\n",
    "    while unprinted_designs:\n",
    "        current_design = unprinted_designs.pop()\n",
    "        \n",
    "        #Simulate creating a 3D print from the design .\n",
    "        print (\"Printing mode:\" + current_design)\n",
    "        completed_models.append(current_design)\n",
    "\n",
    "def show_completed_models(completed_models):\n",
    "    \"\"\"Show all the models tha were printed\"\"\"\n",
    "    print(\"\\nThe following models have been printed:\")\n",
    "    for completed_model in completed_models:\n",
    "        print(completed_model)\n",
    "\n",
    "unprinted_designs = ['iphone case', 'robot pendant', 'dodecahedron']\n",
    "completed_models = []\n",
    "print_models (unprinted_designs, completed_models)\n",
    "show_completed_models (completed_models)"
   ]
  },
  {
   "cell_type": "markdown",
   "metadata": {},
   "source": [
    "This program has the same output of the version without functions, but the code is much more organized. "
   ]
  },
  {
   "cell_type": "code",
   "execution_count": null,
   "metadata": {},
   "outputs": [],
   "source": [
    "completed_models"
   ]
  },
  {
   "cell_type": "markdown",
   "metadata": {},
   "source": [
    "#### Preventing a Function from Modifyng a List"
   ]
  },
  {
   "cell_type": "markdown",
   "metadata": {},
   "source": [
    "If you want to keep the original list you can use a function like this:"
   ]
  },
  {
   "cell_type": "raw",
   "metadata": {},
   "source": [
    "function_name(list_name[:])"
   ]
  },
  {
   "cell_type": "code",
   "execution_count": null,
   "metadata": {},
   "outputs": [],
   "source": [
    "# real example\n",
    "print_models(unprinted_designs[:], completed_models)"
   ]
  },
  {
   "cell_type": "markdown",
   "metadata": {},
   "source": [
    "This time, you only copy the list \"Unprinted designs\""
   ]
  },
  {
   "cell_type": "markdown",
   "metadata": {},
   "source": [
    "However, unless there is a clear reason, you should pass the original list, as it is more efficient for the code (and memory)"
   ]
  },
  {
   "cell_type": "markdown",
   "metadata": {},
   "source": [
    "#### Exercises"
   ]
  },
  {
   "cell_type": "raw",
   "metadata": {},
   "source": [
    "(1) Magicians --- make  a list of magician names. Pass the list to a function called show_magicians(), which print the name of each magicina in the the list"
   ]
  },
  {
   "cell_type": "code",
   "execution_count": 16,
   "metadata": {},
   "outputs": [],
   "source": [
    "def show_magicians(magician_names):\n",
    "    \"\"\"Print magicians names\"\"\"\n",
    "    for magician in magician_names:\n",
    "        print (\"The magician is called \", magician.title() )"
   ]
  },
  {
   "cell_type": "code",
   "execution_count": 17,
   "metadata": {},
   "outputs": [
    {
     "name": "stdout",
     "output_type": "stream",
     "text": [
      "The magician is called  Houdini\n",
      "The magician is called  Salazar\n",
      "The magician is called  Teron\n"
     ]
    }
   ],
   "source": [
    "magician_names = ['houdini', 'salazar', 'teron']\n",
    "show_magicians(magician_names)"
   ]
  },
  {
   "cell_type": "raw",
   "metadata": {},
   "source": [
    "(2) Start with a copy of magicians from (1).  Write a function called make_great() that modify the list of magician by adding the phrase The Great to each magician name. Call show_magicians()\n"
   ]
  },
  {
   "cell_type": "code",
   "execution_count": 18,
   "metadata": {},
   "outputs": [
    {
     "data": {
      "text/plain": [
       "['houdini', 'salazar', 'teron']"
      ]
     },
     "execution_count": 18,
     "metadata": {},
     "output_type": "execute_result"
    }
   ],
   "source": [
    "magician_names"
   ]
  },
  {
   "cell_type": "code",
   "execution_count": 19,
   "metadata": {},
   "outputs": [],
   "source": [
    "def modify_magicians(magician_names, great_magicians):\n",
    "    \"\"\"Add the word great to the magician. Clean the previous list\"\"\"\n",
    "    while magician_names:\n",
    "        great_magician = magician_names.pop()\n",
    "        great_magicians.append(great_magician)\n",
    "        \n",
    "    for great_magician in great_magicians:\n",
    "        print (\"The magician is called \" + great_magician.title() \n",
    "               + \" the Great\")       \n",
    "        "
   ]
  },
  {
   "cell_type": "code",
   "execution_count": 20,
   "metadata": {},
   "outputs": [],
   "source": [
    "great_magicians = []"
   ]
  },
  {
   "cell_type": "code",
   "execution_count": 21,
   "metadata": {},
   "outputs": [
    {
     "name": "stdout",
     "output_type": "stream",
     "text": [
      "The magician is called Teron the Great\n",
      "The magician is called Salazar the Great\n",
      "The magician is called Houdini the Great\n"
     ]
    }
   ],
   "source": [
    "modify_magicians(magician_names, great_magicians)"
   ]
  },
  {
   "cell_type": "markdown",
   "metadata": {},
   "source": [
    "### Passing an arbitrary number of arguments"
   ]
  },
  {
   "cell_type": "code",
   "execution_count": 24,
   "metadata": {},
   "outputs": [],
   "source": [
    "def make_pizza(*toppings):\n",
    "    \"\"\"Print the list of toppings that have being requested\"\"\"\n",
    "    print(toppings)"
   ]
  },
  {
   "cell_type": "code",
   "execution_count": 27,
   "metadata": {},
   "outputs": [
    {
     "name": "stdout",
     "output_type": "stream",
     "text": [
      "('pepperoni',)\n",
      "('pepperoni', 'cheese', 'extra cheese')\n"
     ]
    }
   ],
   "source": [
    "make_pizza('pepperoni')\n",
    "make_pizza('pepperoni', 'cheese', 'extra cheese')"
   ]
  },
  {
   "cell_type": "markdown",
   "metadata": {},
   "source": [
    "The * allows as many arguments as required"
   ]
  },
  {
   "cell_type": "markdown",
   "metadata": {},
   "source": [
    "* it is a tuple"
   ]
  },
  {
   "cell_type": "code",
   "execution_count": 1,
   "metadata": {},
   "outputs": [],
   "source": [
    "def make_pizza(*toppings):\n",
    "    \"\"\"Print the list of toppings that have being requested\"\"\"\n",
    "    print(\"\\nMaking a pizza with the following toppings:\")\n",
    "    for topping in toppings:\n",
    "        print(\"-\" + topping)"
   ]
  },
  {
   "cell_type": "code",
   "execution_count": 2,
   "metadata": {},
   "outputs": [
    {
     "name": "stdout",
     "output_type": "stream",
     "text": [
      "\n",
      "Making a pizza with the following toppings:\n",
      "-pepperoni\n"
     ]
    }
   ],
   "source": [
    "make_pizza('pepperoni')"
   ]
  },
  {
   "cell_type": "code",
   "execution_count": 3,
   "metadata": {},
   "outputs": [
    {
     "name": "stdout",
     "output_type": "stream",
     "text": [
      "\n",
      "Making a pizza with the following toppings:\n",
      "-pepperoni\n",
      "-extra cheese\n",
      "-chicken\n"
     ]
    }
   ],
   "source": [
    "make_pizza('pepperoni', 'extra cheese', 'chicken')"
   ]
  },
  {
   "cell_type": "markdown",
   "metadata": {},
   "source": [
    "###  Mixing Positional and arbitrary arguments"
   ]
  },
  {
   "cell_type": "markdown",
   "metadata": {},
   "source": [
    "If you have one parameter that is mandatory and has a certain position, it is needs to come first"
   ]
  },
  {
   "cell_type": "code",
   "execution_count": 6,
   "metadata": {},
   "outputs": [],
   "source": [
    "def make_pizza(size,*toppings):\n",
    "    \"\"\"Summarize the Pizza we are about to make\"\"\"\n",
    "    print(\"\\nMaking a \" + str(size) + \" pizza with the following toppings:\")\n",
    "    for topping in toppings:\n",
    "        print(\"-\" + topping)"
   ]
  },
  {
   "cell_type": "code",
   "execution_count": 7,
   "metadata": {},
   "outputs": [
    {
     "name": "stdout",
     "output_type": "stream",
     "text": [
      "\n",
      "Making a large pizza with the following toppings:\n",
      "-pepperoni\n",
      "-extra cheese\n",
      "-chicken\n"
     ]
    }
   ],
   "source": [
    "make_pizza('large','pepperoni', 'extra cheese', 'chicken')"
   ]
  },
  {
   "cell_type": "markdown",
   "metadata": {},
   "source": [
    "### Using arbitrary keyword arguments"
   ]
  },
  {
   "cell_type": "markdown",
   "metadata": {},
   "source": [
    "In case you dont know ahead what kind of information will be passed to the function"
   ]
  },
  {
   "cell_type": "code",
   "execution_count": 8,
   "metadata": {},
   "outputs": [],
   "source": [
    "def build_profile (first, last, **user_info):\n",
    "    \"\"\"Build a dictionary containing everything we know about a user\"\"\"\n",
    "    profile = {}\n",
    "    profile['first_name'] = first\n",
    "    profile['last_name'] = last\n",
    "    for key, value in user_info.items():\n",
    "        profile[key]= value\n",
    "        return profile"
   ]
  },
  {
   "cell_type": "code",
   "execution_count": 15,
   "metadata": {},
   "outputs": [
    {
     "name": "stdout",
     "output_type": "stream",
     "text": [
      "{'first_name': 'albert', 'last_name': 'einstein', 'location': 'princeton'}\n"
     ]
    }
   ],
   "source": [
    "user_profile = build_profile('albert', 'einstein', \n",
    "                             location = 'princeton' ,\n",
    "                             field = 'phsyics')\n",
    "print (user_profile)"
   ]
  },
  {
   "cell_type": "code",
   "execution_count": 10,
   "metadata": {},
   "outputs": [
    {
     "data": {
      "text/plain": [
       "{'first_name': 'albert', 'last_name': 'einstein', 'location': 'princeton'}"
      ]
     },
     "execution_count": 10,
     "metadata": {},
     "output_type": "execute_result"
    }
   ],
   "source": [
    "user_profile"
   ]
  },
  {
   "cell_type": "markdown",
   "metadata": {},
   "source": [
    " ###  Storing your functions in Modules"
   ]
  },
  {
   "cell_type": "markdown",
   "metadata": {},
   "source": [
    "It allows to hide the details of the code and focus on the main program"
   ]
  },
  {
   "cell_type": "code",
   "execution_count": null,
   "metadata": {},
   "outputs": [],
   "source": []
  }
 ],
 "metadata": {
  "kernelspec": {
   "display_name": "Python 3",
   "language": "python",
   "name": "python3"
  },
  "language_info": {
   "codemirror_mode": {
    "name": "ipython",
    "version": 3
   },
   "file_extension": ".py",
   "mimetype": "text/x-python",
   "name": "python",
   "nbconvert_exporter": "python",
   "pygments_lexer": "ipython3",
   "version": "3.6.9"
  }
 },
 "nbformat": 4,
 "nbformat_minor": 2
}
