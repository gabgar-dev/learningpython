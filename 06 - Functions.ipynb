{
 "cells": [
  {
   "cell_type": "code",
   "execution_count": 1,
   "metadata": {},
   "outputs": [],
   "source": [
    "def greet_user():\n",
    "    \"\"\"Display a simple greeting\"\"\"\n",
    "    print(\"Hello!\")"
   ]
  },
  {
   "cell_type": "code",
   "execution_count": 2,
   "metadata": {},
   "outputs": [
    {
     "name": "stdout",
     "output_type": "stream",
     "text": [
      "Hello!\n"
     ]
    }
   ],
   "source": [
    "greet_user()"
   ]
  },
  {
   "cell_type": "markdown",
   "metadata": {},
   "source": [
    "The line at (1) use \"def\" - which is a function definition\n",
    "\n",
    "Any idented lines make the body of the function\n",
    "\n",
    "The text is a comment called \"docstring\", which describes what a function does - they are enclosed in triple quotes, which Python used for documentation"
   ]
  },
  {
   "cell_type": "markdown",
   "metadata": {},
   "source": [
    "### Passing Information to a Function"
   ]
  },
  {
   "cell_type": "code",
   "execution_count": 3,
   "metadata": {},
   "outputs": [],
   "source": [
    "def greet_user(username):\n",
    "    \"\"\"Display a simple greeting\"\"\"\n",
    "    print(\"Hello, \" + username.title() + \"!\")"
   ]
  },
  {
   "cell_type": "code",
   "execution_count": 4,
   "metadata": {},
   "outputs": [
    {
     "name": "stdout",
     "output_type": "stream",
     "text": [
      "Hello, Gabriel!\n"
     ]
    }
   ],
   "source": [
    "greet_user(\"Gabriel\")"
   ]
  },
  {
   "cell_type": "markdown",
   "metadata": {},
   "source": [
    "### Arguments and Parameters"
   ]
  },
  {
   "cell_type": "markdown",
   "metadata": {},
   "source": [
    "In the previous function, we defined greet_user() to require a value for the variable \"username\". This variable is an example of a parameter. A piece of information required for the function to do the job.\n",
    "\n",
    "the value 'Gabriel' is an example of a argument.\n",
    "\n",
    "NOTE: People sometimes refer to parameter and argument as interchangeables."
   ]
  },
  {
   "cell_type": "markdown",
   "metadata": {},
   "source": [
    "##### Exercise"
   ]
  },
  {
   "cell_type": "code",
   "execution_count": 7,
   "metadata": {},
   "outputs": [],
   "source": [
    "# favorite book\n",
    "\n",
    "def favorite_book(title):\n",
    "    \"\"\"Returns the favorite book\"\"\"\n",
    "    print(title.title() + \" is one of your favorite books.\")"
   ]
  },
  {
   "cell_type": "code",
   "execution_count": 8,
   "metadata": {},
   "outputs": [
    {
     "name": "stdout",
     "output_type": "stream",
     "text": [
      "Lord Of The Rings is one of your favorite books.\n"
     ]
    }
   ],
   "source": [
    "favorite_book('Lord of the Rings')"
   ]
  },
  {
   "cell_type": "markdown",
   "metadata": {},
   "source": [
    "##### You can pass multiple arguments"
   ]
  },
  {
   "cell_type": "code",
   "execution_count": 12,
   "metadata": {},
   "outputs": [],
   "source": [
    "def describe_pet(animal_type, pet_name):\n",
    "    \"\"\"Display info about a pet\"\"\"\n",
    "    print(\"\\nI have a \" +animal_type + \".\")\n",
    "    print (\"My \" +animal_type + \" name is \" + pet_name.title() + \".\")"
   ]
  },
  {
   "cell_type": "code",
   "execution_count": 13,
   "metadata": {},
   "outputs": [
    {
     "name": "stdout",
     "output_type": "stream",
     "text": [
      "\n",
      "I have a dog.\n",
      "My dog name is Nero.\n"
     ]
    }
   ],
   "source": [
    "describe_pet('dog','nero')"
   ]
  },
  {
   "cell_type": "markdown",
   "metadata": {},
   "source": [
    "#### Order matter in positional arguments"
   ]
  },
  {
   "cell_type": "code",
   "execution_count": 14,
   "metadata": {},
   "outputs": [
    {
     "name": "stdout",
     "output_type": "stream",
     "text": [
      "\n",
      "I have a nero.\n",
      "My nero name is Dog.\n"
     ]
    }
   ],
   "source": [
    "describe_pet('nero','dog')"
   ]
  },
  {
   "cell_type": "markdown",
   "metadata": {},
   "source": [
    "#### Keyword Argument"
   ]
  },
  {
   "cell_type": "markdown",
   "metadata": {},
   "source": [
    "It is name-value pair that you specified to the function. in this way, there is no confusion"
   ]
  },
  {
   "cell_type": "code",
   "execution_count": 19,
   "metadata": {},
   "outputs": [
    {
     "name": "stdout",
     "output_type": "stream",
     "text": [
      "\n",
      "I have a dog.\n",
      "My dog name is Nero.\n",
      "\n",
      "Order does not matter when using keyword arguments:\n",
      "\n",
      "I have a dog.\n",
      "My dog name is Nero.\n"
     ]
    }
   ],
   "source": [
    "describe_pet(animal_type ='dog',pet_name = 'nero')\n",
    "\n",
    "#order does not matter then\n",
    "print (\"\\nOrder does not matter when using keyword arguments:\")\n",
    "describe_pet(pet_name = 'nero', animal_type ='dog')"
   ]
  },
  {
   "cell_type": "markdown",
   "metadata": {},
   "source": [
    "#### Default values"
   ]
  },
  {
   "cell_type": "code",
   "execution_count": 20,
   "metadata": {},
   "outputs": [],
   "source": [
    "def describe_pet(pet_name, animal_type='dog'):\n",
    "    \"\"\"Display info about a pet\"\"\"\n",
    "    print(\"\\nI have a \" +animal_type + \".\")\n",
    "    print (\"My \" +animal_type + \" name is \" + pet_name.title() + \".\")"
   ]
  },
  {
   "cell_type": "markdown",
   "metadata": {},
   "source": [
    "Now when then function is called without a animal type specified, Python knows to the value 'dog'."
   ]
  },
  {
   "cell_type": "code",
   "execution_count": 21,
   "metadata": {},
   "outputs": [
    {
     "name": "stdout",
     "output_type": "stream",
     "text": [
      "\n",
      "I have a dog.\n",
      "My dog name is Nero.\n"
     ]
    }
   ],
   "source": [
    "#With default\n",
    "describe_pet('nero')"
   ]
  },
  {
   "cell_type": "code",
   "execution_count": 23,
   "metadata": {},
   "outputs": [
    {
     "name": "stdout",
     "output_type": "stream",
     "text": [
      "\n",
      "I have a cat.\n",
      "My cat name is Nero.\n"
     ]
    }
   ],
   "source": [
    "#With default - specifiyng a value for animal type\n",
    "describe_pet('nero', 'cat')"
   ]
  },
  {
   "cell_type": "markdown",
   "metadata": {},
   "source": [
    "Because of the way arguments and varibles works, you have several ways to call a function"
   ]
  },
  {
   "cell_type": "code",
   "execution_count": 24,
   "metadata": {},
   "outputs": [
    {
     "ename": "TypeError",
     "evalue": "describe_pet() missing 1 required positional argument: 'pet_name'",
     "output_type": "error",
     "traceback": [
      "\u001b[0;31m---------------------------------------------------------------------------\u001b[0m",
      "\u001b[0;31mTypeError\u001b[0m                                 Traceback (most recent call last)",
      "\u001b[0;32m<ipython-input-24-547dcf5001b0>\u001b[0m in \u001b[0;36m<module>\u001b[0;34m()\u001b[0m\n\u001b[1;32m      1\u001b[0m \u001b[0;31m#see error\u001b[0m\u001b[0;34m\u001b[0m\u001b[0;34m\u001b[0m\u001b[0;34m\u001b[0m\u001b[0m\n\u001b[0;32m----> 2\u001b[0;31m \u001b[0mdescribe_pet\u001b[0m\u001b[0;34m(\u001b[0m\u001b[0;34m)\u001b[0m\u001b[0;34m\u001b[0m\u001b[0;34m\u001b[0m\u001b[0m\n\u001b[0m",
      "\u001b[0;31mTypeError\u001b[0m: describe_pet() missing 1 required positional argument: 'pet_name'"
     ]
    }
   ],
   "source": [
    "#see error\n",
    "describe_pet()"
   ]
  },
  {
   "cell_type": "markdown",
   "metadata": {},
   "source": [
    "### Return Values"
   ]
  },
  {
   "cell_type": "markdown",
   "metadata": {},
   "source": [
    "The value the function returns is called \"return value\"\n",
    "\n",
    "Return values allow you to move much of your program's grunt work into functions, which can simplify the body of your program.\n",
    "\n",
    "Instead of print, which is focused on display data."
   ]
  },
  {
   "cell_type": "code",
   "execution_count": 26,
   "metadata": {},
   "outputs": [
    {
     "name": "stdout",
     "output_type": "stream",
     "text": [
      "Jimi Hendrix\n"
     ]
    }
   ],
   "source": [
    "def get_formatted_name(first_name, last_name):\n",
    "    \"\"\"Return full name, neatly formatted\"\"\"\n",
    "    full_name = first_name +\" \"+last_name\n",
    "    return full_name.title()\n",
    "\n",
    "musician = get_formatted_name('jimi', 'hendrix')\n",
    "print(musician)"
   ]
  },
  {
   "cell_type": "markdown",
   "metadata": {},
   "source": [
    "### Making an argument optional"
   ]
  },
  {
   "cell_type": "markdown",
   "metadata": {},
   "source": [
    "Example, lets say you want to expand then format name function to include middle name (as optional)"
   ]
  },
  {
   "cell_type": "code",
   "execution_count": 27,
   "metadata": {},
   "outputs": [],
   "source": [
    "def get_formatted_name(first_name, middle_name, last_name):\n",
    "    \"\"\"Return full name, neatly formatted\"\"\"\n",
    "    if middle_name:\n",
    "        full_name = first_name +\" \"+ middle_name + \" \"+ last_name\n",
    "    else:\n",
    "         full_name = first_name +\" \"+ last_name\n",
    "    return full_name.title()"
   ]
  },
  {
   "cell_type": "code",
   "execution_count": 31,
   "metadata": {},
   "outputs": [
    {
     "ename": "TypeError",
     "evalue": "get_formatted_name() missing 1 required positional argument: 'last_name'",
     "output_type": "error",
     "traceback": [
      "\u001b[0;31m---------------------------------------------------------------------------\u001b[0m",
      "\u001b[0;31mTypeError\u001b[0m                                 Traceback (most recent call last)",
      "\u001b[0;32m<ipython-input-31-679243bd237b>\u001b[0m in \u001b[0;36m<module>\u001b[0;34m()\u001b[0m\n\u001b[1;32m      1\u001b[0m \u001b[0;31m## forcing a error\u001b[0m\u001b[0;34m\u001b[0m\u001b[0;34m\u001b[0m\u001b[0;34m\u001b[0m\u001b[0m\n\u001b[0;32m----> 2\u001b[0;31m \u001b[0mmusician\u001b[0m \u001b[0;34m=\u001b[0m \u001b[0mget_formatted_name\u001b[0m\u001b[0;34m(\u001b[0m\u001b[0;34m'jimi'\u001b[0m\u001b[0;34m,\u001b[0m\u001b[0;34m'hendrix'\u001b[0m\u001b[0;34m)\u001b[0m\u001b[0;34m\u001b[0m\u001b[0;34m\u001b[0m\u001b[0m\n\u001b[0m\u001b[1;32m      3\u001b[0m \u001b[0mprint\u001b[0m\u001b[0;34m(\u001b[0m\u001b[0mmusician\u001b[0m\u001b[0;34m)\u001b[0m\u001b[0;34m\u001b[0m\u001b[0;34m\u001b[0m\u001b[0m\n",
      "\u001b[0;31mTypeError\u001b[0m: get_formatted_name() missing 1 required positional argument: 'last_name'"
     ]
    }
   ],
   "source": [
    "## forcing a error\n",
    "musician = get_formatted_name('jimi','hendrix')\n",
    "print(musician)"
   ]
  },
  {
   "cell_type": "code",
   "execution_count": 36,
   "metadata": {},
   "outputs": [],
   "source": [
    "#now with the correction\n",
    "#middle name default is nothing\n",
    "def get_formatted_name(first_name, last_name, middle_name =\"\"):\n",
    "    \"\"\"Return full name, neatly formatted\"\"\"\n",
    "   #Python interprets non-empty strings as True and empty as false.\n",
    "    if middle_name:\n",
    "        full_name = first_name +\" \"+ middle_name + \" \"+ last_name\n",
    "    else:\n",
    "         full_name = first_name +\" \"+ last_name\n",
    "    return full_name.title()"
   ]
  },
  {
   "cell_type": "code",
   "execution_count": 34,
   "metadata": {},
   "outputs": [
    {
     "name": "stdout",
     "output_type": "stream",
     "text": [
      "Jimi Hendrix\n"
     ]
    }
   ],
   "source": [
    "musician = get_formatted_name('jimi','hendrix')\n",
    "print(musician)"
   ]
  },
  {
   "cell_type": "code",
   "execution_count": 35,
   "metadata": {},
   "outputs": [
    {
     "name": "stdout",
     "output_type": "stream",
     "text": [
      "Jimi Lee Hendrix\n"
     ]
    }
   ],
   "source": [
    "musician = get_formatted_name('jimi','hendrix', 'lee')\n",
    "print(musician)"
   ]
  },
  {
   "cell_type": "markdown",
   "metadata": {},
   "source": [
    "#### Important - in Python, always the default parameter last"
   ]
  },
  {
   "cell_type": "markdown",
   "metadata": {},
   "source": [
    "### Returning a Dictionary"
   ]
  },
  {
   "cell_type": "markdown",
   "metadata": {},
   "source": [
    "    A function can return any value you need it, including more complicated data structures."
   ]
  },
  {
   "cell_type": "code",
   "execution_count": 1,
   "metadata": {},
   "outputs": [],
   "source": [
    "def build_person(first_name, last_name):\n",
    "    \"\"\"Return a dictionary of information about a person\"\"\"\n",
    "    person = {'first': first_name, 'last': last_name}\n",
    "    return person\n"
   ]
  },
  {
   "cell_type": "code",
   "execution_count": 2,
   "metadata": {},
   "outputs": [
    {
     "name": "stdout",
     "output_type": "stream",
     "text": [
      "{'first': 'jimi', 'last': 'hendrix'}\n"
     ]
    }
   ],
   "source": [
    "musician = build_person('jimi', 'hendrix')\n",
    "print (musician)"
   ]
  },
  {
   "cell_type": "markdown",
   "metadata": {},
   "source": [
    "This function takes in simple textual information and puts it into more meaningfull data structure that lets you work with the information beyond just printing it.  "
   ]
  },
  {
   "cell_type": "code",
   "execution_count": 5,
   "metadata": {},
   "outputs": [],
   "source": [
    "#adding more data - age as optional\n",
    "def build_person(first_name, last_name, age=\"\"):\n",
    "    \"\"\"Return a dictionary of information about a person\"\"\"\n",
    "    person = {'first': first_name, 'last': last_name}\n",
    "    if age:\n",
    "        person ['age'] = age\n",
    "    return person\n"
   ]
  },
  {
   "cell_type": "code",
   "execution_count": 6,
   "metadata": {},
   "outputs": [
    {
     "name": "stdout",
     "output_type": "stream",
     "text": [
      "{'first': 'jimi', 'last': 'hendrix', 'age': 27}\n"
     ]
    }
   ],
   "source": [
    "musician = build_person('jimi', 'hendrix', 27)\n",
    "print (musician)"
   ]
  },
  {
   "cell_type": "markdown",
   "metadata": {},
   "source": [
    "### Using a function with a while Loop"
   ]
  },
  {
   "cell_type": "code",
   "execution_count": 1,
   "metadata": {},
   "outputs": [],
   "source": [
    "def get_formatted_name (first_name, last_name):\n",
    "    \"\"\"Return a full name, neatly formatted\"\"\"\n",
    "    full_name = first_name + \" \" + last_name\n",
    "    return full_name.title()"
   ]
  },
  {
   "cell_type": "code",
   "execution_count": null,
   "metadata": {},
   "outputs": [],
   "source": [
    "#This is a infinite loop\n",
    "#while True:\n",
    "    print (\"\\nPlease tell me your name:\")\n",
    "    f_name = input(\"First name:\")\n",
    "    l_name = input ('Last name:')\n",
    "    \n",
    "    formatted_name = get_formatted_name(f_name, l_name)\n",
    "    print (\"\\nHello \" + formatted_name + \"!\")"
   ]
  },
  {
   "cell_type": "code",
   "execution_count": 6,
   "metadata": {},
   "outputs": [
    {
     "name": "stdout",
     "output_type": "stream",
     "text": [
      "\n",
      "Please tell me your name:\n",
      "First name:Dada\n",
      "Enter 'q' to quit at any time:\n",
      "Last name:Maravilha\n",
      "\n",
      "Hello Dada Maravilha!\n",
      "\n",
      "Please tell me your name:\n",
      "First name:Beto \n",
      "Enter 'q' to quit at any time:\n",
      "Last name:Carreiro\n",
      "\n",
      "Hello Beto  Carreiro!\n",
      "\n",
      "Please tell me your name:\n",
      "First name:q\n",
      "Enter 'q' to quit at any time:\n"
     ]
    }
   ],
   "source": [
    "# Corrected loop - with a option to quit\n",
    "\n",
    "while True:\n",
    "    print (\"\\nPlease tell me your name:\")\n",
    "    f_name = input(\"First name:\")\n",
    "    print (\"Enter 'q' to quit at any time:\")\n",
    "    \n",
    "    if f_name == 'q':\n",
    "        break\n",
    "       \n",
    "    l_name = input ('Last name:')\n",
    "   \n",
    "    if l_name == 'q':\n",
    "        break\n",
    "    \n",
    "    \n",
    "    formatted_name = get_formatted_name(f_name, l_name)\n",
    "    print (\"\\nHello \" + formatted_name + \"!\")"
   ]
  },
  {
   "cell_type": "markdown",
   "metadata": {},
   "source": [
    "### Exercise"
   ]
  },
  {
   "cell_type": "code",
   "execution_count": 8,
   "metadata": {},
   "outputs": [],
   "source": [
    "#Create a function that store in a dictionary the info \n",
    "#of game publishers, games \n",
    "#add ow many hours the game has\n",
    "\n",
    "#Function\n",
    "\n",
    "def games_info (publisher_name, game_name, game_duration =\"\"):\n",
    "    \"\"\"Return a dictionary of game info\"\"\"\n",
    "    \n",
    "    game_info = {'publisher': publisher_name, 'Name of Game': game_name}\n",
    "    \n",
    "    if game_duration:\n",
    "        game_info['Game Duration'] = game_duration\n",
    "        \n",
    "    return game_info"
   ]
  },
  {
   "cell_type": "code",
   "execution_count": 9,
   "metadata": {},
   "outputs": [
    {
     "data": {
      "text/plain": [
       "{'publisher': 'blizzard', 'Name of Game': 'diablo', 'Game Duration': 30}"
      ]
     },
     "execution_count": 9,
     "metadata": {},
     "output_type": "execute_result"
    }
   ],
   "source": [
    "games_info ('blizzard', 'diablo', 30)"
   ]
  },
  {
   "cell_type": "code",
   "execution_count": 12,
   "metadata": {},
   "outputs": [
    {
     "name": "stdout",
     "output_type": "stream",
     "text": [
      "This is the publisher: Blizzard\n"
     ]
    }
   ],
   "source": [
    "formatted_game = games_info ('blizzard', 'diablo', 30)\n",
    "print (\"This is the publisher: \" + formatted_game['publisher'].title())"
   ]
  },
  {
   "cell_type": "markdown",
   "metadata": {},
   "source": [
    "### Passing a list"
   ]
  },
  {
   "cell_type": "markdown",
   "metadata": {},
   "source": [
    "Often useful to pass a list to a function, wheter it's a list of names, numbers or more complex objects."
   ]
  },
  {
   "cell_type": "code",
   "execution_count": 19,
   "metadata": {},
   "outputs": [],
   "source": [
    "def greet_users(names):\n",
    "    \"\"\"Print simple greeting each user in the list\"\"\"\n",
    "    for name in names:\n",
    "        msg = \"Hello, \" + name.title() + \"!\"\n",
    "        print (msg)"
   ]
  },
  {
   "cell_type": "code",
   "execution_count": 14,
   "metadata": {},
   "outputs": [],
   "source": [
    "usernames = ['hannah', 'ty', 'margot']"
   ]
  },
  {
   "cell_type": "code",
   "execution_count": 20,
   "metadata": {},
   "outputs": [
    {
     "name": "stdout",
     "output_type": "stream",
     "text": [
      "Hello, Hannah!\n",
      "Hello, Ty!\n",
      "Hello, Margot!\n"
     ]
    }
   ],
   "source": [
    "greet_users(usernames)"
   ]
  },
  {
   "cell_type": "markdown",
   "metadata": {},
   "source": [
    "### Modifying a List in a Function"
   ]
  },
  {
   "cell_type": "markdown",
   "metadata": {},
   "source": [
    "When you pass a list to a function , the function can modify the list."
   ]
  },
  {
   "cell_type": "code",
   "execution_count": 21,
   "metadata": {},
   "outputs": [],
   "source": [
    "#start with some designs that need to be printed\n",
    "unprinted_designs = ['iphone case', 'robot pendant', 'dodecahedron']\n",
    "completed_models = []\n",
    "\n",
    "#simulating printing each design, untl none are left\n",
    "#move each completed_models after printing.\n",
    "while unprinted_designs:\n",
    "    current_design\n",
    "\n",
    "\n",
    "\n",
    "\n",
    "\n",
    "\n",
    "\n",
    "\n",
    "\n",
    "\n"
   ]
  },
  {
   "cell_type": "code",
   "execution_count": null,
   "metadata": {},
   "outputs": [],
   "source": []
  }
 ],
 "metadata": {
  "kernelspec": {
   "display_name": "Python 3",
   "language": "python",
   "name": "python3"
  },
  "language_info": {
   "codemirror_mode": {
    "name": "ipython",
    "version": 3
   },
   "file_extension": ".py",
   "mimetype": "text/x-python",
   "name": "python",
   "nbconvert_exporter": "python",
   "pygments_lexer": "ipython3",
   "version": "3.6.9"
  }
 },
 "nbformat": 4,
 "nbformat_minor": 2
}
