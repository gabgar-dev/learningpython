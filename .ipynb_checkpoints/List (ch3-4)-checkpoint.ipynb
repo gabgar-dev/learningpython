{
 "cells": [
  {
   "cell_type": "code",
   "execution_count": 1,
   "metadata": {},
   "outputs": [],
   "source": [
    "#list - collection of items\n",
    "bicycles = [\"trek\", \"redline\", \"specialized\"]"
   ]
  },
  {
   "cell_type": "code",
   "execution_count": 2,
   "metadata": {},
   "outputs": [
    {
     "name": "stdout",
     "output_type": "stream",
     "text": [
      "['trek', 'redline', 'specialized']\n"
     ]
    }
   ],
   "source": [
    "print (bicycles)"
   ]
  },
  {
   "cell_type": "code",
   "execution_count": 3,
   "metadata": {},
   "outputs": [
    {
     "ename": "NameError",
     "evalue": "name 'biclycles' is not defined",
     "output_type": "error",
     "traceback": [
      "\u001b[0;31m---------------------------------------------------------------------------\u001b[0m",
      "\u001b[0;31mNameError\u001b[0m                                 Traceback (most recent call last)",
      "\u001b[0;32m<ipython-input-3-be7292772d80>\u001b[0m in \u001b[0;36m<module>\u001b[0;34m()\u001b[0m\n\u001b[0;32m----> 1\u001b[0;31m \u001b[0mprint\u001b[0m \u001b[0;34m(\u001b[0m\u001b[0mbiclycles\u001b[0m\u001b[0;34m[\u001b[0m\u001b[0;36m1\u001b[0m\u001b[0;34m]\u001b[0m\u001b[0;34m)\u001b[0m\u001b[0;34m\u001b[0m\u001b[0m\n\u001b[0m",
      "\u001b[0;31mNameError\u001b[0m: name 'biclycles' is not defined"
     ]
    }
   ],
   "source": [
    "print (biclycles[1])"
   ]
  },
  {
   "cell_type": "code",
   "execution_count": 5,
   "metadata": {},
   "outputs": [
    {
     "name": "stdout",
     "output_type": "stream",
     "text": [
      "redline\n"
     ]
    }
   ],
   "source": [
    "print (bicycles[1])"
   ]
  },
  {
   "cell_type": "code",
   "execution_count": 6,
   "metadata": {},
   "outputs": [
    {
     "name": "stdout",
     "output_type": "stream",
     "text": [
      "trek\n"
     ]
    }
   ],
   "source": [
    "print (bicycles[0])"
   ]
  },
  {
   "cell_type": "code",
   "execution_count": 9,
   "metadata": {},
   "outputs": [
    {
     "name": "stdout",
     "output_type": "stream",
     "text": [
      "specialized\n"
     ]
    }
   ],
   "source": [
    "#last element in a list\n",
    "print (bicycles[-1])"
   ]
  },
  {
   "cell_type": "code",
   "execution_count": 13,
   "metadata": {},
   "outputs": [
    {
     "name": "stdout",
     "output_type": "stream",
     "text": [
      "My first bike was Trek.\n"
     ]
    }
   ],
   "source": [
    "#pulling first biclycle\n",
    "msg = \"My first bike was \" + bicycles[0].title() +\".\"\n",
    "print (msg)"
   ]
  },
  {
   "cell_type": "code",
   "execution_count": 17,
   "metadata": {},
   "outputs": [],
   "source": [
    "#exercise print friends name\n",
    "friends = [\"Carol\", \"Yan\", \"Ricardo\"]"
   ]
  },
  {
   "cell_type": "code",
   "execution_count": 18,
   "metadata": {},
   "outputs": [
    {
     "name": "stdout",
     "output_type": "stream",
     "text": [
      "['Carol', 'Yan', 'Ricardo']\n"
     ]
    }
   ],
   "source": [
    "print (friends)"
   ]
  },
  {
   "cell_type": "code",
   "execution_count": 19,
   "metadata": {},
   "outputs": [],
   "source": [
    "msg1 = friends[0] + \" \" + \"you are my only girl friend\"\n",
    "msg2 = friends[1] + \" \" + \"you are my best buddy\"\n",
    "msg3 = friends[-1] + \" \" + \"you are my richiest friend\""
   ]
  },
  {
   "cell_type": "code",
   "execution_count": 42,
   "metadata": {},
   "outputs": [
    {
     "ename": "SyntaxError",
     "evalue": "unexpected character after line continuation character (<ipython-input-42-8451bfcaccb8>, line 1)",
     "output_type": "error",
     "traceback": [
      "\u001b[0;36m  File \u001b[0;32m\"<ipython-input-42-8451bfcaccb8>\"\u001b[0;36m, line \u001b[0;32m1\u001b[0m\n\u001b[0;31m    print (msg1 +\\n msg2 + \\n msg3)\u001b[0m\n\u001b[0m                                   ^\u001b[0m\n\u001b[0;31mSyntaxError\u001b[0m\u001b[0;31m:\u001b[0m unexpected character after line continuation character\n"
     ]
    }
   ],
   "source": [
    "print (msg1 +\\n msg2 + \\n msg3)"
   ]
  },
  {
   "cell_type": "code",
   "execution_count": 49,
   "metadata": {},
   "outputs": [
    {
     "name": "stdout",
     "output_type": "stream",
     "text": [
      "msg1\n",
      "msg2\n",
      "msg3\n"
     ]
    }
   ],
   "source": [
    "print(\"msg1\" +\"\\nmsg2\" + \"\\nmsg3\")"
   ]
  },
  {
   "cell_type": "code",
   "execution_count": 51,
   "metadata": {},
   "outputs": [
    {
     "name": "stdout",
     "output_type": "stream",
     "text": [
      "Carol you are my only girl friend\n",
      "Yan you are my best buddy\n",
      "Ricardo you are my richiest friend\n"
     ]
    }
   ],
   "source": [
    "print(msg1)\n",
    "print(msg2)\n",
    "print(msg3)"
   ]
  },
  {
   "cell_type": "code",
   "execution_count": 52,
   "metadata": {},
   "outputs": [
    {
     "name": "stdout",
     "output_type": "stream",
     "text": [
      "Carol\n",
      "Yan\n",
      "Ricardo\n"
     ]
    }
   ],
   "source": [
    "for x in friends:\n",
    "    print (x)"
   ]
  },
  {
   "cell_type": "code",
   "execution_count": 55,
   "metadata": {},
   "outputs": [
    {
     "name": "stdout",
     "output_type": "stream",
     "text": [
      "['honda', 'yamaha', 'suzuki']\n"
     ]
    }
   ],
   "source": [
    "motorcycles = [\"honda\", \"yamaha\", \"suzuki\"]\n",
    "print (motorcycles)"
   ]
  },
  {
   "cell_type": "code",
   "execution_count": 56,
   "metadata": {},
   "outputs": [
    {
     "name": "stdout",
     "output_type": "stream",
     "text": [
      "['ducati', 'yamaha', 'suzuki']\n"
     ]
    }
   ],
   "source": [
    "#changing element in the list\n",
    "motorcycles[0] = \"ducati\"\n",
    "print(motorcycles)"
   ]
  },
  {
   "cell_type": "code",
   "execution_count": 59,
   "metadata": {},
   "outputs": [],
   "source": [
    "motorcycles = [\"honda\", \"yamaha\", \"suzuki\"]"
   ]
  },
  {
   "cell_type": "code",
   "execution_count": 62,
   "metadata": {},
   "outputs": [],
   "source": [
    "#adding element to the list\n",
    "motorcycles.append(\"ducati\")"
   ]
  },
  {
   "cell_type": "code",
   "execution_count": 61,
   "metadata": {},
   "outputs": [
    {
     "name": "stdout",
     "output_type": "stream",
     "text": [
      "['honda', 'yamaha', 'suzuki', 'ducati']\n"
     ]
    }
   ],
   "source": [
    "print (motorcycles)"
   ]
  },
  {
   "cell_type": "code",
   "execution_count": 73,
   "metadata": {},
   "outputs": [],
   "source": [
    "motorcycles = []\n",
    "motorcycles.append(\"honda\")\n",
    "motorcycles.append(\"yamaha\")\n",
    "motorcycles.append(\"suzuki\")\n"
   ]
  },
  {
   "cell_type": "code",
   "execution_count": 74,
   "metadata": {},
   "outputs": [
    {
     "name": "stdout",
     "output_type": "stream",
     "text": [
      "['honda', 'yamaha', 'suzuki']\n"
     ]
    }
   ],
   "source": [
    "print (motorcycles)"
   ]
  },
  {
   "cell_type": "code",
   "execution_count": 65,
   "metadata": {},
   "outputs": [],
   "source": [
    "#building list in this way is common, as you wont know the data your users will input\""
   ]
  },
  {
   "cell_type": "code",
   "execution_count": 68,
   "metadata": {},
   "outputs": [],
   "source": [
    "#Insert method\n",
    "#You can add element in any position\n",
    "motorcycles = [\"honda\", \"yamaha\", \"suzuki\"]\n"
   ]
  },
  {
   "cell_type": "code",
   "execution_count": 76,
   "metadata": {},
   "outputs": [],
   "source": [
    "motorcycles.insert(0, \"ducati\")"
   ]
  },
  {
   "cell_type": "code",
   "execution_count": 77,
   "metadata": {},
   "outputs": [
    {
     "name": "stdout",
     "output_type": "stream",
     "text": [
      "['ducati', 'honda', 'yamaha', 'suzuki']\n"
     ]
    }
   ],
   "source": [
    "print (motorcycles)"
   ]
  },
  {
   "cell_type": "code",
   "execution_count": 79,
   "metadata": {},
   "outputs": [],
   "source": [
    "#removing elements from the list\n",
    "del motorcycles[0]"
   ]
  },
  {
   "cell_type": "code",
   "execution_count": 80,
   "metadata": {},
   "outputs": [
    {
     "name": "stdout",
     "output_type": "stream",
     "text": [
      "['honda', 'yamaha', 'suzuki']\n"
     ]
    }
   ],
   "source": [
    "print (motorcycles)"
   ]
  },
  {
   "cell_type": "code",
   "execution_count": 81,
   "metadata": {},
   "outputs": [
    {
     "name": "stdout",
     "output_type": "stream",
     "text": [
      "['honda', 'yamaha', 'suzuki']\n"
     ]
    }
   ],
   "source": [
    "#pop() command - removing item - but allowing to work later\n",
    "motorcycles = [\"honda\", \"yamaha\", \"suzuki\"]\n",
    "print (motorcycles)"
   ]
  },
  {
   "cell_type": "code",
   "execution_count": 91,
   "metadata": {},
   "outputs": [],
   "source": [
    "popped_motrocylce = motorcycles.pop()"
   ]
  },
  {
   "cell_type": "code",
   "execution_count": 92,
   "metadata": {},
   "outputs": [
    {
     "name": "stdout",
     "output_type": "stream",
     "text": [
      "[]\n"
     ]
    }
   ],
   "source": [
    "print (motorcycles)"
   ]
  },
  {
   "cell_type": "code",
   "execution_count": 93,
   "metadata": {},
   "outputs": [
    {
     "ename": "NameError",
     "evalue": "name 'popped_motorcycle' is not defined",
     "output_type": "error",
     "traceback": [
      "\u001b[0;31m---------------------------------------------------------------------------\u001b[0m",
      "\u001b[0;31mNameError\u001b[0m                                 Traceback (most recent call last)",
      "\u001b[0;32m<ipython-input-93-c671c7822b2b>\u001b[0m in \u001b[0;36m<module>\u001b[0;34m()\u001b[0m\n\u001b[0;32m----> 1\u001b[0;31m \u001b[0mprint\u001b[0m\u001b[0;34m(\u001b[0m\u001b[0mpopped_motorcycle\u001b[0m\u001b[0;34m)\u001b[0m\u001b[0;34m\u001b[0m\u001b[0m\n\u001b[0m",
      "\u001b[0;31mNameError\u001b[0m: name 'popped_motorcycle' is not defined"
     ]
    }
   ],
   "source": [
    "print(popped_motorcycle)"
   ]
  },
  {
   "cell_type": "code",
   "execution_count": 95,
   "metadata": {},
   "outputs": [
    {
     "name": "stdout",
     "output_type": "stream",
     "text": [
      "['honda', 'yamaha']\n",
      "suzuki\n"
     ]
    }
   ],
   "source": [
    "#pop() command - removing item - but allowing to work later\n",
    "motorcycles = [\"honda\", \"yamaha\", \"suzuki\"]\n",
    "popped_motorcycles = motorcycles.pop()\n",
    "print (motorcycles)\n",
    "print(popped_motorcycles)"
   ]
  },
  {
   "cell_type": "code",
   "execution_count": 96,
   "metadata": {},
   "outputs": [
    {
     "name": "stdout",
     "output_type": "stream",
     "text": [
      "['honda', 'yamaha', 'suzuki']\n",
      "['honda', 'yamaha']\n",
      "suzuki\n"
     ]
    }
   ],
   "source": [
    "#pop() command - removing item - but allowing to work later\n",
    "motorcycles = [\"honda\", \"yamaha\", \"suzuki\"]\n",
    "print (motorcycles)\n",
    "popped_motorcycles = motorcycles.pop()\n",
    "print (motorcycles)\n",
    "print(popped_motorcycles)"
   ]
  },
  {
   "cell_type": "code",
   "execution_count": 97,
   "metadata": {},
   "outputs": [
    {
     "name": "stdout",
     "output_type": "stream",
     "text": [
      "The last motorcycle I owned was a Suzuki.\n"
     ]
    }
   ],
   "source": [
    "motorcycles = [\"honda\", \"yamaha\", \"suzuki\"]\n",
    "last_owned = motorcycles.pop()\n",
    "print (\"The last motorcycle I owned was a \" + last_owned.title() +\".\")"
   ]
  },
  {
   "cell_type": "code",
   "execution_count": 103,
   "metadata": {},
   "outputs": [
    {
     "name": "stdout",
     "output_type": "stream",
     "text": [
      "The last motorcycle I owned was a Honda.\n"
     ]
    }
   ],
   "source": [
    "# you can use popo() to remove a item in any position\n",
    "motorcycles = [\"honda\", \"yamaha\", \"suzuki\"]\n",
    "first_owned = motorcycles.pop(0)\n",
    "print (\"The last motorcycle I owned was a \" + first_owned.title() +\".\")\n",
    "motorcycles.insert(0,first_owned)"
   ]
  },
  {
   "cell_type": "code",
   "execution_count": 104,
   "metadata": {},
   "outputs": [
    {
     "name": "stdout",
     "output_type": "stream",
     "text": [
      "['honda', 'yamaha', 'suzuki']\n"
     ]
    }
   ],
   "source": [
    "print (motorcycles)"
   ]
  },
  {
   "cell_type": "code",
   "execution_count": 105,
   "metadata": {},
   "outputs": [],
   "source": [
    "#If you want to delete permanently use del if you want to use it later, user pop()"
   ]
  },
  {
   "cell_type": "code",
   "execution_count": 109,
   "metadata": {},
   "outputs": [
    {
     "name": "stdout",
     "output_type": "stream",
     "text": [
      "['honda', 'yamaha', 'suzuki', 'ducati']\n"
     ]
    }
   ],
   "source": [
    "#If you only know the value and not the position, use remove()\n",
    "motorcycles = [\"honda\", \"yamaha\", \"suzuki\", \"ducati\"]\n",
    "print (motorcycles)"
   ]
  },
  {
   "cell_type": "code",
   "execution_count": 110,
   "metadata": {},
   "outputs": [],
   "source": [
    "motorcycles.remove(\"ducati\")"
   ]
  },
  {
   "cell_type": "code",
   "execution_count": 111,
   "metadata": {},
   "outputs": [
    {
     "name": "stdout",
     "output_type": "stream",
     "text": [
      "['honda', 'yamaha', 'suzuki']\n"
     ]
    }
   ],
   "source": [
    "print (motorcycles)"
   ]
  },
  {
   "cell_type": "code",
   "execution_count": 114,
   "metadata": {},
   "outputs": [
    {
     "name": "stdout",
     "output_type": "stream",
     "text": [
      "['honda', 'yamaha', 'suzuki']\n",
      "\n",
      "A Ducati is too expensive for me.\n"
     ]
    }
   ],
   "source": [
    "motorcycles = [\"honda\", \"yamaha\", \"suzuki\", \"ducati\"]\n",
    "too_expensive = \"ducati\"\n",
    "motorcycles.remove(too_expensive)\n",
    "print (motorcycles)\n",
    "print (\"\\nA \" + too_expensive.title() + \" is too expensive for me.\")\n"
   ]
  },
  {
   "cell_type": "code",
   "execution_count": 117,
   "metadata": {},
   "outputs": [],
   "source": [
    "guest_list = [\"Carol\",\"Yan\", \"Ricardo\"]"
   ]
  },
  {
   "cell_type": "code",
   "execution_count": 131,
   "metadata": {},
   "outputs": [
    {
     "name": "stdout",
     "output_type": "stream",
     "text": [
      "Carol you have been invited to Gabriel's dinner\n",
      "Yan you have been invited to Gabriel's dinner\n",
      "Ricardo you have been invited to Gabriel's dinner\n"
     ]
    }
   ],
   "source": [
    "print (guest_list[0]+ \" you have been invited to Gabriel's dinner\")\n",
    "print (guest_list[1]+ \" you have been invited to Gabriel's dinner\")\n",
    "print (guest_list[-1]+ \" you have been invited to Gabriel's dinner\")"
   ]
  },
  {
   "cell_type": "code",
   "execution_count": 138,
   "metadata": {},
   "outputs": [
    {
     "name": "stdout",
     "output_type": "stream",
     "text": [
      "Carol cannot join the dinner, so we wil invite someonelse.\n",
      "Laura will come on her place!\n"
     ]
    }
   ],
   "source": [
    "#Execise chapter 3\n",
    "#Changing one guest\n",
    "guest_list = [\"Carol\",\"Yan\", \"Ricardo\"]\n",
    "popped_guest = guest_list.pop(0)\n",
    "print (popped_guest + \" cannot join the dinner, so we wil invite someonelse.\")\n",
    "guest_list.insert(0, \"Laura\")\n",
    "print (guest_list[0] + \" will come on her place!\")"
   ]
  },
  {
   "cell_type": "code",
   "execution_count": 139,
   "metadata": {},
   "outputs": [
    {
     "name": "stdout",
     "output_type": "stream",
     "text": [
      "Laura you have been invited to Gabriel's dinner\n",
      "Yan you have been invited to Gabriel's dinner\n",
      "Ricardo you have been invited to Gabriel's dinner\n"
     ]
    }
   ],
   "source": [
    "print (guest_list[0]+ \" you have been invited to Gabriel's dinner\")\n",
    "print (guest_list[1]+ \" you have been invited to Gabriel's dinner\")\n",
    "print (guest_list[-1]+ \" you have been invited to Gabriel's dinner\")"
   ]
  },
  {
   "cell_type": "code",
   "execution_count": 141,
   "metadata": {},
   "outputs": [],
   "source": [
    "guest_list.append(\"Pedro\")"
   ]
  },
  {
   "cell_type": "code",
   "execution_count": 142,
   "metadata": {},
   "outputs": [
    {
     "name": "stdout",
     "output_type": "stream",
     "text": [
      "['Laura', 'Yan', 'Ricardo', 'Pedro']\n"
     ]
    }
   ],
   "source": [
    "print (guest_list)"
   ]
  },
  {
   "cell_type": "code",
   "execution_count": 143,
   "metadata": {},
   "outputs": [
    {
     "name": "stdout",
     "output_type": "stream",
     "text": [
      "Laura you have been invited to Gabriel's dinner\n",
      "Yan you have been invited to Gabriel's dinner\n",
      "Ricardo you have been invited to Gabriel's dinner\n",
      "Pedro you have been invited to Gabriel's dinner\n"
     ]
    }
   ],
   "source": [
    "print (guest_list[0]+ \" you have been invited to Gabriel's dinner\")\n",
    "print (guest_list[1]+ \" you have been invited to Gabriel's dinner\")\n",
    "print (guest_list[2]+ \" you have been invited to Gabriel's dinner\")\n",
    "print (guest_list[-1]+ \" you have been invited to Gabriel's dinner\")"
   ]
  },
  {
   "cell_type": "code",
   "execution_count": null,
   "metadata": {},
   "outputs": [],
   "source": []
  }
 ],
 "metadata": {
  "kernelspec": {
   "display_name": "Environment (conda_python3)",
   "language": "python",
   "name": "conda_python3"
  },
  "language_info": {
   "codemirror_mode": {
    "name": "ipython",
    "version": 3
   },
   "file_extension": ".py",
   "mimetype": "text/x-python",
   "name": "python",
   "nbconvert_exporter": "python",
   "pygments_lexer": "ipython3",
   "version": "3.6.5"
  }
 },
 "nbformat": 4,
 "nbformat_minor": 2
}
