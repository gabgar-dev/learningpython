{
 "cells": [
  {
   "cell_type": "markdown",
   "metadata": {},
   "source": [
    "# Classes"
   ]
  },
  {
   "cell_type": "markdown",
   "metadata": {},
   "source": [
    "Object-oriented programming is one of the most effective approaches to writing software.  \n",
    "\n",
    "In OOP you write classes that represent real-world things and situations and you create objects based on these classes.\n",
    "\n",
    "When you write a class, you define the general behavior that a whole categoty of objects can have.\n",
    "\n",
    "Making a object from a class is called instantiation. "
   ]
  },
  {
   "cell_type": "markdown",
   "metadata": {},
   "source": [
    "### Example"
   ]
  },
  {
   "cell_type": "markdown",
   "metadata": {},
   "source": [
    "Lets try to model a clas, Dog - that can represent any dog. \n",
    "\n",
    "What do we know about dogs>\n",
    "They have name and age\n",
    "They have two behaviors  - sit and roll over\n",
    "\n",
    "These two pieces (name and age + behaviors) will go with your class - as they are part of most dogs."
   ]
  },
  {
   "cell_type": "code",
   "execution_count": 1,
   "metadata": {},
   "outputs": [],
   "source": [
    "class Dog():\n",
    "    \"\"\"A simple attempt to model a dog\"\"\"\n",
    "    \n",
    "    def __init__(self,name,age):\n",
    "        \"\"\"Initialize name and age attributes\"\"\"\n",
    "        self.name = name\n",
    "        self.age = age\n",
    "        \n",
    "    def sit(self):\n",
    "        \"\"\"Simulate a dog sitting in response to a command\"\"\"\n",
    "        print(self.name.title()+\" is now sitting.\")\n",
    "        \n",
    "    def roll_over(self):\n",
    "        \"\"\"Simulate rolling over in response to a command\"\"\"\n",
    "        print(self.name.title()+ \" rolled over!\")"
   ]
  },
  {
   "cell_type": "markdown",
   "metadata": {},
   "source": [
    "#### note -- two underscores + a space between def __int__"
   ]
  },
  {
   "cell_type": "markdown",
   "metadata": {},
   "source": [
    "A function that is part of a class is a method --- the __init__ is a method\n",
    "\n",
    "We defined the __init__ method to have 3 parameters - self, name and age.  The self parameter is required in the method definition and must come first before the other parameters.  When Python calls this __init__ method later (to create a instance of Dog), the method call will automatically pass the self argument.  When we make a instance of the Dog class and call the __init__ method from the Dog class, self is passed automatically, so we dont need to state"
   ]
  },
  {
   "cell_type": "markdown",
   "metadata": {},
   "source": [
    "### Making an Instance from a Class"
   ]
  },
  {
   "cell_type": "markdown",
   "metadata": {},
   "source": [
    "Think of a class as a set of instructions for how to make an instance.  The class Dog is a set of instructons that tells Python how to make individual instances representing dogs."
   ]
  },
  {
   "cell_type": "code",
   "execution_count": 2,
   "metadata": {},
   "outputs": [],
   "source": [
    "my_dog = Dog('willie',6)"
   ]
  },
  {
   "cell_type": "code",
   "execution_count": 3,
   "metadata": {},
   "outputs": [
    {
     "name": "stdout",
     "output_type": "stream",
     "text": [
      "My dog's name is Willie.\n"
     ]
    }
   ],
   "source": [
    "print (\"My dog's name is \" +my_dog.name.title()+\".\")"
   ]
  },
  {
   "cell_type": "code",
   "execution_count": 4,
   "metadata": {},
   "outputs": [
    {
     "name": "stdout",
     "output_type": "stream",
     "text": [
      "My dog is 6 years old.\n"
     ]
    }
   ],
   "source": [
    "print (\"My dog is \" +str(my_dog.age)+\" years old.\")"
   ]
  },
  {
   "cell_type": "markdown",
   "metadata": {},
   "source": [
    "### Calling methods"
   ]
  },
  {
   "cell_type": "code",
   "execution_count": 5,
   "metadata": {},
   "outputs": [
    {
     "name": "stdout",
     "output_type": "stream",
     "text": [
      "Willie is now sitting.\n",
      "Willie rolled over!\n"
     ]
    }
   ],
   "source": [
    "#Calling method sit and roll over\n",
    "my_dog.sit()\n",
    "my_dog.roll_over()"
   ]
  },
  {
   "cell_type": "markdown",
   "metadata": {},
   "source": [
    "### Creating Multiple Instances"
   ]
  },
  {
   "cell_type": "code",
   "execution_count": 6,
   "metadata": {},
   "outputs": [],
   "source": [
    "my_dog = Dog ('nero', 12)\n",
    "your_dog = Dog ('nika', 4)"
   ]
  },
  {
   "cell_type": "code",
   "execution_count": 7,
   "metadata": {},
   "outputs": [
    {
     "name": "stdout",
     "output_type": "stream",
     "text": [
      "My dog's name is Nero.\n",
      "My dog is 12 years old.\n"
     ]
    }
   ],
   "source": [
    "print (\"My dog's name is \" +my_dog.name.title()+\".\")\n",
    "print (\"My dog is \" +str(my_dog.age)+\" years old.\")"
   ]
  },
  {
   "cell_type": "code",
   "execution_count": 8,
   "metadata": {},
   "outputs": [
    {
     "name": "stdout",
     "output_type": "stream",
     "text": [
      "Your dog's name is Nika.\n",
      "Your dog is 4 years old.\n"
     ]
    }
   ],
   "source": [
    "print (\"Your dog's name is \" +your_dog.name.title()+\".\")\n",
    "print (\"Your dog is \" +str(your_dog.age)+\" years old.\")"
   ]
  },
  {
   "cell_type": "code",
   "execution_count": 9,
   "metadata": {},
   "outputs": [
    {
     "name": "stdout",
     "output_type": "stream",
     "text": [
      "Nika is now sitting.\n"
     ]
    }
   ],
   "source": [
    "your_dog.sit()"
   ]
  },
  {
   "cell_type": "markdown",
   "metadata": {},
   "source": [
    "Even if we used the same name and age for the second dog, Python still create a separate instance from the Dog class."
   ]
  },
  {
   "cell_type": "markdown",
   "metadata": {},
   "source": [
    "### Exercise"
   ]
  },
  {
   "cell_type": "markdown",
   "metadata": {},
   "source": [
    "The restaurant class"
   ]
  },
  {
   "cell_type": "code",
   "execution_count": 10,
   "metadata": {},
   "outputs": [],
   "source": [
    "class Restaurant:\n",
    "    \"\"\"A class that stores restaurant attributes and status \"\"\"\n",
    "    def __init__(self,restaurant_name,cuisine_type):\n",
    "        \"\"\"Initialize restaurante name and cuisine type\"\"\"\n",
    "        self.restaurant_name = restaurant_name\n",
    "        self.cuisine_type = cuisine_type\n",
    "    \n",
    "    def describe_restaurant (self):\n",
    "        \"\"\"Prints restaurante name and cuisine type\"\"\"\n",
    "        print (\"The restaurant name is \"+ self.restaurant_name.title()+\".\")\n",
    "        print (\"The cuisine type is \"+self.cuisine_type+\".\")\n",
    "    \n",
    "    def open_restaurant (self):\n",
    "        print (self.restaurant_name.title()+ \" is now Open.\")\n",
    "    \n",
    "    def close_restaurant(self):\n",
    "        print (self.restaurant_name.title()+ \" is now Closed.\")      \n",
    "    "
   ]
  },
  {
   "cell_type": "code",
   "execution_count": 11,
   "metadata": {},
   "outputs": [],
   "source": [
    "restaurant = Restaurant('barranco', 'churrasco')"
   ]
  },
  {
   "cell_type": "code",
   "execution_count": 12,
   "metadata": {},
   "outputs": [
    {
     "name": "stdout",
     "output_type": "stream",
     "text": [
      "Barranco\n",
      "Churrasco\n"
     ]
    }
   ],
   "source": [
    "print (restaurant.restaurant_name.title())\n",
    "print (restaurant.cuisine_type.title())"
   ]
  },
  {
   "cell_type": "code",
   "execution_count": 13,
   "metadata": {},
   "outputs": [
    {
     "name": "stdout",
     "output_type": "stream",
     "text": [
      "The restaurant name is Barranco.\n",
      "The cuisine type is churrasco.\n"
     ]
    }
   ],
   "source": [
    "restaurant.describe_restaurant()"
   ]
  },
  {
   "cell_type": "code",
   "execution_count": 14,
   "metadata": {},
   "outputs": [
    {
     "name": "stdout",
     "output_type": "stream",
     "text": [
      "Barranco is now Open.\n"
     ]
    }
   ],
   "source": [
    "restaurant.open_restaurant()"
   ]
  },
  {
   "cell_type": "code",
   "execution_count": 15,
   "metadata": {},
   "outputs": [
    {
     "name": "stdout",
     "output_type": "stream",
     "text": [
      "Barranco is now Closed.\n"
     ]
    }
   ],
   "source": [
    "restaurant.close_restaurant()"
   ]
  },
  {
   "cell_type": "markdown",
   "metadata": {},
   "source": [
    "### Classes and Instances"
   ]
  },
  {
   "cell_type": "markdown",
   "metadata": {},
   "source": [
    "When working with classes - to represent real-world situation - you will spend most of your time working with instances created from that class.  One of the first usual tasks is to modify the attributes associated with a particular instance."
   ]
  },
  {
   "cell_type": "markdown",
   "metadata": {},
   "source": [
    "Creating the car class"
   ]
  },
  {
   "cell_type": "code",
   "execution_count": 16,
   "metadata": {},
   "outputs": [],
   "source": [
    "class Car():\n",
    "    \"\"\"A simple attempt to represent a car\"\"\"\n",
    "    \n",
    "    def __init__(self, make, model,year):\n",
    "        \"\"\"Initialize attributes to describe a car\"\"\"\n",
    "        self.make = make\n",
    "        self.model = model\n",
    "        self.year = year\n",
    "    \n",
    "    def get_descriptive_name(self):\n",
    "        \"\"\"Return a neatly formatted descriptive name\"\"\"\n",
    "        long_name = str(self.year)+\" \"+self.make+\" \"+self.model\n",
    "        return long_name.title()    "
   ]
  },
  {
   "cell_type": "code",
   "execution_count": 17,
   "metadata": {},
   "outputs": [
    {
     "name": "stdout",
     "output_type": "stream",
     "text": [
      "2016 Audi A4\n"
     ]
    }
   ],
   "source": [
    "my_new_car = Car('audi','a4','2016')\n",
    "print (my_new_car.get_descriptive_name())"
   ]
  },
  {
   "cell_type": "markdown",
   "metadata": {},
   "source": [
    "#### Exercise\n",
    "D&D character attributes"
   ]
  },
  {
   "cell_type": "code",
   "execution_count": 18,
   "metadata": {},
   "outputs": [],
   "source": [
    "class Hero():\n",
    "    \"\"\"A simple attempt to represent a D&D hero\"\"\"\n",
    "    \n",
    "    def __init__(self,name,race,classe):\n",
    "        self.name = name\n",
    "        self.race = race\n",
    "        self.classe = classe\n",
    "    \n",
    "    def get_hero_description(self):\n",
    "        \"Return the formatted hero description\"\n",
    "        hero_desc = self.name + \" \"+self.race+\" \"+self.classe\n",
    "        return hero_desc.title()"
   ]
  },
  {
   "cell_type": "code",
   "execution_count": 19,
   "metadata": {},
   "outputs": [],
   "source": [
    "my_hero = Hero('thronus','human','warrior')"
   ]
  },
  {
   "cell_type": "code",
   "execution_count": 20,
   "metadata": {},
   "outputs": [
    {
     "data": {
      "text/plain": [
       "'Thronus Human Warrior'"
      ]
     },
     "execution_count": 20,
     "metadata": {},
     "output_type": "execute_result"
    }
   ],
   "source": [
    "my_hero.get_hero_description()"
   ]
  },
  {
   "cell_type": "markdown",
   "metadata": {},
   "source": [
    "### Setting a default parameter"
   ]
  },
  {
   "cell_type": "markdown",
   "metadata": {},
   "source": [
    "Adding a attribute called odometer_reading that always start with 0"
   ]
  },
  {
   "cell_type": "code",
   "execution_count": 21,
   "metadata": {},
   "outputs": [],
   "source": [
    "class Car():\n",
    "    \"\"\"A simple attempt to represent a car\"\"\"\n",
    "    ###adding odometer reading\n",
    "    def __init__(self, make, model,year):\n",
    "        \"\"\"Initialize attributes to describe a car\"\"\"\n",
    "        self.make = make\n",
    "        self.model = model\n",
    "        self.year = year\n",
    "        self.odometer_reading = 0\n",
    "    \n",
    "    def get_descriptive_name(self):\n",
    "        \"\"\"Return a neatly formatted descriptive name\"\"\"\n",
    "        long_name = str(self.year)+\" \"+self.make+\" \"+self.model\n",
    "        return long_name.title()    \n",
    "    \n",
    "    def read_odometer(self):\n",
    "        \"\"\"Print a statement showing the car's milleage\"\"\"\n",
    "        print (\"This car has \"+ str(self.odometer_reading)+\" miles on it\")"
   ]
  },
  {
   "cell_type": "code",
   "execution_count": 22,
   "metadata": {},
   "outputs": [],
   "source": [
    "my_new_car = Car('audi','a4','2016')"
   ]
  },
  {
   "cell_type": "code",
   "execution_count": 23,
   "metadata": {},
   "outputs": [
    {
     "name": "stdout",
     "output_type": "stream",
     "text": [
      "This car has 0 miles on it\n"
     ]
    }
   ],
   "source": [
    "my_new_car.read_odometer()"
   ]
  },
  {
   "cell_type": "markdown",
   "metadata": {},
   "source": [
    "###  Modifying Attributes Values"
   ]
  },
  {
   "cell_type": "markdown",
   "metadata": {},
   "source": [
    "You can change an attribute value in three ways:\n",
    "* Change directly through an instance\n",
    "* set the value through a method\n",
    "* increment the value"
   ]
  },
  {
   "cell_type": "markdown",
   "metadata": {},
   "source": [
    "#####  Modiying direclty"
   ]
  },
  {
   "cell_type": "code",
   "execution_count": 24,
   "metadata": {},
   "outputs": [
    {
     "data": {
      "text/plain": [
       "<__main__.Car at 0x7f40544b4550>"
      ]
     },
     "execution_count": 24,
     "metadata": {},
     "output_type": "execute_result"
    }
   ],
   "source": [
    "my_new_car"
   ]
  },
  {
   "cell_type": "code",
   "execution_count": 25,
   "metadata": {},
   "outputs": [
    {
     "data": {
      "text/plain": [
       "'2016 Audi A4'"
      ]
     },
     "execution_count": 25,
     "metadata": {},
     "output_type": "execute_result"
    }
   ],
   "source": [
    "my_new_car.get_descriptive_name()"
   ]
  },
  {
   "cell_type": "code",
   "execution_count": 26,
   "metadata": {},
   "outputs": [
    {
     "name": "stdout",
     "output_type": "stream",
     "text": [
      "This car has 0 miles on it\n"
     ]
    }
   ],
   "source": [
    "my_new_car.read_odometer()"
   ]
  },
  {
   "cell_type": "code",
   "execution_count": 27,
   "metadata": {},
   "outputs": [],
   "source": [
    "my_new_car.odometer_reading = 50"
   ]
  },
  {
   "cell_type": "code",
   "execution_count": 28,
   "metadata": {},
   "outputs": [
    {
     "name": "stdout",
     "output_type": "stream",
     "text": [
      "This car has 50 miles on it\n"
     ]
    }
   ],
   "source": [
    "my_new_car.read_odometer()"
   ]
  },
  {
   "cell_type": "markdown",
   "metadata": {},
   "source": [
    "#####  Modiying through a Method"
   ]
  },
  {
   "cell_type": "code",
   "execution_count": 29,
   "metadata": {},
   "outputs": [],
   "source": [
    "class Car():\n",
    "    \"\"\"A simple attempt to represent a car\"\"\"\n",
    "    ###adding odometer reading\n",
    "    def __init__(self, make, model,year):\n",
    "        \"\"\"Initialize attributes to describe a car\"\"\"\n",
    "        self.make = make\n",
    "        self.model = model\n",
    "        self.year = year\n",
    "        self.odometer_reading = 0\n",
    "    \n",
    "    def get_descriptive_name(self):\n",
    "        \"\"\"Return a neatly formatted descriptive name\"\"\"\n",
    "        long_name = str(self.year)+\" \"+self.make+\" \"+self.model\n",
    "        return long_name.title()    \n",
    "    \n",
    "    def read_odometer(self):\n",
    "        \"\"\"Print a statement showing the car's milleage\"\"\"\n",
    "        print (\"This car has \"+ str(self.odometer_reading)+\" miles on it\")\n",
    "        \n",
    "    def update_odometer(self, mileage):\n",
    "        \"\"\"Set the odometer reading to the given value\n",
    "            Reject the change if it attempts to roll the odometer back\n",
    "        \"\"\"\n",
    "        if mileage>=self.odometer_reading:\n",
    "            self.odometer_reading =mileage\n",
    "        else:\n",
    "            print (\"You can't roll back an odometer\")"
   ]
  },
  {
   "cell_type": "code",
   "execution_count": 30,
   "metadata": {},
   "outputs": [],
   "source": [
    "my_new_car = Car('audi','a4','2016')"
   ]
  },
  {
   "cell_type": "code",
   "execution_count": 31,
   "metadata": {},
   "outputs": [],
   "source": [
    "my_new_car.update_odometer(55)"
   ]
  },
  {
   "cell_type": "code",
   "execution_count": 32,
   "metadata": {},
   "outputs": [
    {
     "name": "stdout",
     "output_type": "stream",
     "text": [
      "This car has 55 miles on it\n"
     ]
    }
   ],
   "source": [
    "my_new_car.read_odometer()"
   ]
  },
  {
   "cell_type": "code",
   "execution_count": 33,
   "metadata": {},
   "outputs": [
    {
     "name": "stdout",
     "output_type": "stream",
     "text": [
      "You can't roll back an odometer\n"
     ]
    }
   ],
   "source": [
    "my_new_car.update_odometer(25)"
   ]
  },
  {
   "cell_type": "markdown",
   "metadata": {},
   "source": [
    "#####  Incrementing an Attribute value through a Method"
   ]
  },
  {
   "cell_type": "markdown",
   "metadata": {},
   "source": [
    "Sometimes you'll want to increment attribute's value by certain amount rather than set an entirely value."
   ]
  },
  {
   "cell_type": "code",
   "execution_count": 34,
   "metadata": {},
   "outputs": [],
   "source": [
    "class Car():\n",
    "    \"\"\"A simple attempt to represent a car\"\"\"\n",
    "    ###adding odometer reading\n",
    "    def __init__(self, make, model,year):\n",
    "        \"\"\"Initialize attributes to describe a car\"\"\"\n",
    "        self.make = make\n",
    "        self.model = model\n",
    "        self.year = year\n",
    "        self.odometer_reading = 0\n",
    "    \n",
    "    def get_descriptive_name(self):\n",
    "        \"\"\"Return a neatly formatted descriptive name\"\"\"\n",
    "        long_name = str(self.year)+\" \"+self.make+\" \"+self.model\n",
    "        return long_name.title()    \n",
    "    \n",
    "    def read_odometer(self):\n",
    "        \"\"\"Print a statement showing the car's milleage\"\"\"\n",
    "        print (\"This car has \"+ str(self.odometer_reading)+\" miles on it\")\n",
    "        \n",
    "    def update_odometer(self, mileage):\n",
    "        \"\"\"Set the odometer reading to the given value\n",
    "            Reject the change if it attempts to roll the odometer back\n",
    "        \"\"\"\n",
    "        if mileage>=self.odometer_reading:\n",
    "            self.odometer_reading =mileage\n",
    "        else:\n",
    "            print (\"You can't roll back an odometer\")\n",
    "    \n",
    "    def increment_odometer(self, miles):\n",
    "        \"\"\"Add the given amount to the odometer reading\"\"\"\n",
    "        self.odometer_reading+=miles"
   ]
  },
  {
   "cell_type": "code",
   "execution_count": 35,
   "metadata": {},
   "outputs": [],
   "source": [
    "my_used_car = Car ('subaru', 'outback', 2013)"
   ]
  },
  {
   "cell_type": "code",
   "execution_count": 36,
   "metadata": {},
   "outputs": [
    {
     "name": "stdout",
     "output_type": "stream",
     "text": [
      "2013 Subaru Outback\n"
     ]
    }
   ],
   "source": [
    "print(my_used_car.get_descriptive_name())"
   ]
  },
  {
   "cell_type": "code",
   "execution_count": 37,
   "metadata": {},
   "outputs": [],
   "source": [
    "my_used_car.increment_odometer(100)"
   ]
  },
  {
   "cell_type": "code",
   "execution_count": 38,
   "metadata": {},
   "outputs": [
    {
     "name": "stdout",
     "output_type": "stream",
     "text": [
      "This car has 100 miles on it\n"
     ]
    }
   ],
   "source": [
    "my_used_car.read_odometer()"
   ]
  },
  {
   "cell_type": "code",
   "execution_count": 39,
   "metadata": {},
   "outputs": [],
   "source": [
    "my_used_car.increment_odometer(200)"
   ]
  },
  {
   "cell_type": "code",
   "execution_count": 40,
   "metadata": {},
   "outputs": [
    {
     "name": "stdout",
     "output_type": "stream",
     "text": [
      "This car has 300 miles on it\n"
     ]
    }
   ],
   "source": [
    "my_used_car.read_odometer()"
   ]
  },
  {
   "cell_type": "markdown",
   "metadata": {},
   "source": [
    "#### Exercise\n",
    "D&D character Modifying attributes"
   ]
  },
  {
   "cell_type": "code",
   "execution_count": 41,
   "metadata": {},
   "outputs": [],
   "source": [
    "class Hero():\n",
    "    \"\"\"A simple attempt to represent a D&D hero\"\"\"\n",
    "    \n",
    "    def __init__(self,name,race,classe):\n",
    "        self.name = name\n",
    "        self.race = race\n",
    "        self.classe = classe\n",
    "        self.hit_points = 100\n",
    "    \n",
    "    def get_hero_description(self):\n",
    "        \"\"\"Return the formatted hero description\"\"\"\n",
    "        hero_desc = self.name + \" \"+self.race+\" \"+self.classe\n",
    "        return hero_desc.title()\n",
    "    \n",
    "    def read_hit_points(self):\n",
    "        \"\"\"Return hero hit points\"\"\"\n",
    "        print (self.name.title() + \" has \"+ str(self.hit_points)+\" hit points.\")            \n",
    "    "
   ]
  },
  {
   "cell_type": "code",
   "execution_count": 42,
   "metadata": {},
   "outputs": [],
   "source": [
    "my_hero = Hero('thronus','human','warrior')"
   ]
  },
  {
   "cell_type": "code",
   "execution_count": 43,
   "metadata": {},
   "outputs": [
    {
     "name": "stdout",
     "output_type": "stream",
     "text": [
      "Thronus Human Warrior\n"
     ]
    }
   ],
   "source": [
    "print(my_hero.get_hero_description())"
   ]
  },
  {
   "cell_type": "code",
   "execution_count": 44,
   "metadata": {},
   "outputs": [
    {
     "data": {
      "text/plain": [
       "100"
      ]
     },
     "execution_count": 44,
     "metadata": {},
     "output_type": "execute_result"
    }
   ],
   "source": [
    "my_hero.hit_points"
   ]
  },
  {
   "cell_type": "code",
   "execution_count": 45,
   "metadata": {},
   "outputs": [
    {
     "name": "stdout",
     "output_type": "stream",
     "text": [
      "Thronus has 100 hit points.\n"
     ]
    }
   ],
   "source": [
    "my_hero.read_hit_points()"
   ]
  },
  {
   "cell_type": "markdown",
   "metadata": {},
   "source": [
    "#####  update hit points"
   ]
  },
  {
   "cell_type": "code",
   "execution_count": 46,
   "metadata": {},
   "outputs": [],
   "source": [
    "class Hero():\n",
    "    \"\"\"A simple attempt to represent a D&D hero\"\"\"\n",
    "    \n",
    "    def __init__(self,name,race,classe):\n",
    "        self.name = name\n",
    "        self.race = race\n",
    "        self.classe = classe\n",
    "        self.hit_points = 100\n",
    "    \n",
    "    def get_hero_description(self):\n",
    "        \"\"\"Return the formatted hero description\"\"\"\n",
    "        hero_desc = self.name + \" \"+self.race+\" \"+self.classe\n",
    "        return hero_desc.title()\n",
    "    \n",
    "    def read_hit_points(self):\n",
    "        \"\"\"Return hero hit points\"\"\"\n",
    "        print (self.name.title() + \" has \"+ str(self.hit_points)+\" hit points.\")            \n",
    "    \n",
    "    def get_damage (self, damage):\n",
    "        \"\"\"Reduce hit points based on the damage\"\"\"\n",
    "        self.hit_points = self.hit_points - damage\n",
    "        print (self.read_hit_points())\n",
    "        print (self.name.title()+ \" received \" + str(damage)+ \" damage.\")"
   ]
  },
  {
   "cell_type": "code",
   "execution_count": 47,
   "metadata": {},
   "outputs": [],
   "source": [
    "my_hero = Hero('thronus','human','warrior')"
   ]
  },
  {
   "cell_type": "code",
   "execution_count": 48,
   "metadata": {},
   "outputs": [
    {
     "name": "stdout",
     "output_type": "stream",
     "text": [
      "Thronus has 100 hit points.\n"
     ]
    }
   ],
   "source": [
    "my_hero.read_hit_points()"
   ]
  },
  {
   "cell_type": "code",
   "execution_count": 49,
   "metadata": {},
   "outputs": [
    {
     "name": "stdout",
     "output_type": "stream",
     "text": [
      "Thronus has 90 hit points.\n",
      "None\n",
      "Thronus received 10 damage.\n"
     ]
    }
   ],
   "source": [
    "my_hero.get_damage(10)"
   ]
  },
  {
   "cell_type": "code",
   "execution_count": 50,
   "metadata": {},
   "outputs": [],
   "source": [
    "class Hero():\n",
    "    \"\"\"A simple attempt to represent a D&D hero\"\"\"\n",
    "    \n",
    "    def __init__(self,name,race,classe):\n",
    "        self.name = name\n",
    "        self.race = race\n",
    "        self.classe = classe\n",
    "        self.hit_points = 100\n",
    "    \n",
    "    def get_hero_description(self):\n",
    "        \"\"\"Return the formatted hero description\"\"\"\n",
    "        hero_desc = self.name + \" \"+self.race+\" \"+self.classe\n",
    "        return hero_desc.title()\n",
    "    \n",
    "    def read_hit_points(self):\n",
    "        \"\"\"Return hero hit points\"\"\"\n",
    "        print (self.name.title() + \" has \"+ str(self.hit_points)+\" hit points.\")            \n",
    "    \n",
    "    def get_damage (self, damage):\n",
    "        \"\"\"Reduce hit points based on the damage\"\"\"\n",
    "        self.hit_points = self.hit_points - damage\n",
    "        return (str(self.hit_points))\n",
    "    "
   ]
  },
  {
   "cell_type": "markdown",
   "metadata": {},
   "source": [
    "### Inheritance"
   ]
  },
  {
   "cell_type": "markdown",
   "metadata": {},
   "source": [
    "When a class inherits from other - it takes automatically all attributes and methods.\n",
    "The original class is called parent class and the new class is child"
   ]
  },
  {
   "cell_type": "code",
   "execution_count": 51,
   "metadata": {},
   "outputs": [],
   "source": [
    "class Car():\n",
    "    \"\"\"A simple attempt to represent a car\"\"\"\n",
    "    ###adding odometer reading\n",
    "    def __init__(self, make, model,year):\n",
    "        \"\"\"Initialize attributes to describe a car\"\"\"\n",
    "        self.make = make\n",
    "        self.model = model\n",
    "        self.year = year\n",
    "        self.odometer_reading = 0\n",
    "    \n",
    "    def get_descriptive_name(self):\n",
    "        \"\"\"Return a neatly formatted descriptive name\"\"\"\n",
    "        long_name = str(self.year)+\" \"+self.make+\" \"+self.model\n",
    "        return long_name.title()    \n",
    "    \n",
    "    def read_odometer(self):\n",
    "        \"\"\"Print a statement showing the car's milleage\"\"\"\n",
    "        print (\"This car has \"+ str(self.odometer_reading)+\" miles on it\")\n",
    "        \n",
    "    def update_odometer(self, mileage):\n",
    "        \"\"\"Set the odometer reading to the given value\n",
    "            Reject the change if it attempts to roll the odometer back\n",
    "        \"\"\"\n",
    "        if mileage>=self.odometer_reading:\n",
    "            self.odometer_reading =mileage\n",
    "        else:\n",
    "            print (\"You can't roll back an odometer\")\n",
    "    \n",
    "    def increment_odometer(self, miles):\n",
    "        \"\"\"Add the given amount to the odometer reading\"\"\"\n",
    "        self.odometer_reading+=miles"
   ]
  },
  {
   "cell_type": "code",
   "execution_count": 52,
   "metadata": {},
   "outputs": [],
   "source": [
    "#Making the inheritance\n",
    "class EletricCar(Car):\n",
    "    \"\"\"Represent aspects of a car, specific to eletric vehicle\"\"\"\n",
    "    \n",
    "    def __init__ (self,make,model,year):\n",
    "        \"\"\"Initialize attributes of the parent calss\"\"\"\n",
    "        super().__init__(make,model,year)     "
   ]
  },
  {
   "cell_type": "code",
   "execution_count": 53,
   "metadata": {},
   "outputs": [],
   "source": [
    "my_tesla = EletricCar('tesla', 'model s', '2016')"
   ]
  },
  {
   "cell_type": "code",
   "execution_count": 54,
   "metadata": {},
   "outputs": [
    {
     "name": "stdout",
     "output_type": "stream",
     "text": [
      "2016 Tesla Model S\n"
     ]
    }
   ],
   "source": [
    "print (my_tesla.get_descriptive_name())"
   ]
  },
  {
   "cell_type": "markdown",
   "metadata": {},
   "source": [
    "###  Defining Attributes and Methods for the Child Class"
   ]
  },
  {
   "cell_type": "markdown",
   "metadata": {},
   "source": [
    "Once you have a child class you can add new attributes that are specific of that class"
   ]
  },
  {
   "cell_type": "code",
   "execution_count": 55,
   "metadata": {},
   "outputs": [],
   "source": [
    "#adding different attributes\n",
    "class EletricCar(Car):\n",
    "    \"\"\"Represent aspects of a car, specific to eletric vehicle\"\"\"\n",
    "    \n",
    "    def __init__ (self,make,model,year):\n",
    "        \"\"\"Initialize attributes of the parent calss\"\"\"\n",
    "        super().__init__(make,model,year)     \n",
    "        self.battery_size = 70\n",
    "        \n",
    "    def describe_battery(self):\n",
    "        \"\"\"Print a statement describing the battery size\"\"\"\n",
    "        return(\"This car has a \" + str(self.battery_size)+\" kWh battery.\")"
   ]
  },
  {
   "cell_type": "code",
   "execution_count": 56,
   "metadata": {},
   "outputs": [],
   "source": [
    "my_tesla = EletricCar('tesla', 'model s', '2016')"
   ]
  },
  {
   "cell_type": "code",
   "execution_count": 57,
   "metadata": {},
   "outputs": [
    {
     "name": "stdout",
     "output_type": "stream",
     "text": [
      "This car has a 70 kWh battery.\n"
     ]
    }
   ],
   "source": [
    "print (my_tesla.describe_battery())"
   ]
  },
  {
   "cell_type": "markdown",
   "metadata": {},
   "source": [
    "### Overriding Methods from the Parent Class"
   ]
  },
  {
   "cell_type": "markdown",
   "metadata": {},
   "source": [
    "Lets say the class car had a function to fill the gas on the tank. Eletric cars dont have it, so you can override."
   ]
  },
  {
   "cell_type": "code",
   "execution_count": 58,
   "metadata": {},
   "outputs": [],
   "source": [
    "#overriding a method\n",
    "class EletricCar(Car):\n",
    "    \"\"\"Represent aspects of a car, specific to eletric vehicle\"\"\"\n",
    "    \n",
    "    def __init__ (self,make,model,year):\n",
    "        \"\"\"Initialize attributes of the parent calss\"\"\"\n",
    "        super().__init__(make,model,year)     \n",
    "        self.battery_size = 70\n",
    "        \n",
    "    def describe_battery(self):\n",
    "        \"\"\"Print a statement describing the battery size\"\"\"\n",
    "        return(\"This car has a \" + str(self.battery_size)+\" kWh battery.\")\n",
    "    \n",
    "    def fill_gas_tank(self):\n",
    "        \"\"\"Eletric cars dont have gas tanks\"\"\"\n",
    "        return(\"This car doesnt need a gas tank!\")"
   ]
  },
  {
   "cell_type": "code",
   "execution_count": 59,
   "metadata": {},
   "outputs": [],
   "source": [
    "my_tesla = EletricCar('tesla', 'model s', '2016')"
   ]
  },
  {
   "cell_type": "code",
   "execution_count": 60,
   "metadata": {},
   "outputs": [
    {
     "name": "stdout",
     "output_type": "stream",
     "text": [
      "This car doesnt need a gas tank!\n"
     ]
    }
   ],
   "source": [
    "print (my_tesla.fill_gas_tank())"
   ]
  },
  {
   "cell_type": "markdown",
   "metadata": {},
   "source": [
    "In the case above, if the Car class had a funtion, it would have been override."
   ]
  },
  {
   "cell_type": "markdown",
   "metadata": {},
   "source": [
    "### Instances as Attributes"
   ]
  },
  {
   "cell_type": "markdown",
   "metadata": {},
   "source": [
    "When modeling in the real world, it may be that your class becomes too big with too many attributes.\n",
    "In this case, you can create another class and break your large class in smaller ones."
   ]
  },
  {
   "cell_type": "code",
   "execution_count": 61,
   "metadata": {},
   "outputs": [],
   "source": [
    "class Car():\n",
    "    \"\"\"A simple attempt to represent a car\"\"\"\n",
    "    ###adding odometer reading\n",
    "    def __init__(self, make, model,year):\n",
    "        \"\"\"Initialize attributes to describe a car\"\"\"\n",
    "        self.make = make\n",
    "        self.model = model\n",
    "        self.year = year\n",
    "        self.odometer_reading = 0\n",
    "    \n",
    "    def get_descriptive_name(self):\n",
    "        \"\"\"Return a neatly formatted descriptive name\"\"\"\n",
    "        long_name = str(self.year)+\" \"+self.make+\" \"+self.model\n",
    "        return long_name.title()    \n",
    "    \n",
    "    def read_odometer(self):\n",
    "        \"\"\"Print a statement showing the car's milleage\"\"\"\n",
    "        print (\"This car has \"+ str(self.odometer_reading)+\" miles on it\")\n",
    "        \n",
    "    def update_odometer(self, mileage):\n",
    "        \"\"\"Set the odometer reading to the given value\n",
    "            Reject the change if it attempts to roll the odometer back\n",
    "        \"\"\"\n",
    "        if mileage>=self.odometer_reading:\n",
    "            self.odometer_reading =mileage\n",
    "        else:\n",
    "            print (\"You can't roll back an odometer\")\n",
    "    \n",
    "    def increment_odometer(self, miles):\n",
    "        \"\"\"Add the given amount to the odometer reading\"\"\"\n",
    "        self.odometer_reading+=miles"
   ]
  },
  {
   "cell_type": "code",
   "execution_count": 62,
   "metadata": {},
   "outputs": [],
   "source": [
    "class Battery():\n",
    "    \"\"\"A simple attempt to model a battery for an eletric car\"\"\"\n",
    "    \n",
    "    def __init__(self,battery_size=70):\n",
    "        \"\"\"Initialize the battery attributes\"\"\"\n",
    "        self.battery_size  = battery_size\n",
    "    \n",
    "    def describe_battery(self):\n",
    "        \"\"\"Print a statement describing the battery size\"\"\"\n",
    "        return(\"This car has a \"+ str(self.battery_size) + \" kWh battery.\")"
   ]
  },
  {
   "cell_type": "code",
   "execution_count": 63,
   "metadata": {},
   "outputs": [],
   "source": [
    "class EletricCar(Car):\n",
    "    \"\"\"Represent aspects of a car, specific to eletric vehicle\"\"\"\n",
    "    \n",
    "    def __init__ (self,make,model,year):\n",
    "        \"\"\"Initialize attributes of the parent calss\"\"\"\n",
    "        super().__init__(make,model,year)\n",
    "        self.battery = Battery()"
   ]
  },
  {
   "cell_type": "code",
   "execution_count": 64,
   "metadata": {},
   "outputs": [],
   "source": [
    "my_tesla = EletricCar('tesla', 'model s', '2016')"
   ]
  },
  {
   "cell_type": "code",
   "execution_count": 65,
   "metadata": {},
   "outputs": [
    {
     "name": "stdout",
     "output_type": "stream",
     "text": [
      "2016 Tesla Model S\n"
     ]
    }
   ],
   "source": [
    "print (my_tesla.get_descriptive_name())"
   ]
  },
  {
   "cell_type": "code",
   "execution_count": 66,
   "metadata": {},
   "outputs": [
    {
     "name": "stdout",
     "output_type": "stream",
     "text": [
      "This car has a 70 kWh battery.\n"
     ]
    }
   ],
   "source": [
    "print (my_tesla.battery.describe_battery())"
   ]
  },
  {
   "cell_type": "markdown",
   "metadata": {},
   "source": [
    "In the EletricCar class , we know add an attribute called self.battery. Thias line tells Python to create a new instance of Battery (with default size 70, because we are not specifying any value) and store that instance in the attribute self.battery.  This will happen every time the __init__() method is called. Any ElectricCar instance will now have a Battery instance created automatically.\n",
    "\n",
    "my_tesla.battery.decribe_battery() tells Python to look at intance my_tesla, find its battery attribute, and call the method describe_battery() that's associated with the Battery instance in the attribute"
   ]
  },
  {
   "cell_type": "markdown",
   "metadata": {},
   "source": [
    "This allows you to add more details to the class Battery without overfloading the Eletric Car"
   ]
  },
  {
   "cell_type": "markdown",
   "metadata": {},
   "source": [
    "### Modeling Real-world objects"
   ]
  },
  {
   "cell_type": "markdown",
   "metadata": {},
   "source": [
    "When you start to model real world objects you will find some questions. Is the range a propery of electric cars or battery.  If you have a simple model it can be either one, but as you start to model more complex scenarios it is important to think about it."
   ]
  },
  {
   "cell_type": "markdown",
   "metadata": {},
   "source": [
    "#### Exercises"
   ]
  },
  {
   "cell_type": "markdown",
   "metadata": {},
   "source": [
    "Ice Cream Stand - - inherit it from restaurant class"
   ]
  },
  {
   "cell_type": "code",
   "execution_count": 136,
   "metadata": {},
   "outputs": [],
   "source": [
    "class Restaurant:\n",
    "    \"\"\"A class that stores restaurant attributes and status \"\"\"\n",
    "    def __init__(self,restaurant_name,cuisine_type):\n",
    "        \"\"\"Initialize restaurante name and cuisine type\"\"\"\n",
    "        self.restaurant_name = restaurant_name\n",
    "        self.cuisine_type = cuisine_type\n",
    "    \n",
    "    def describe_restaurant (self):\n",
    "        \"\"\"Prints restaurante name and cuisine type\"\"\"\n",
    "        print (\"The restaurant name is \"+ self.restaurant_name.title()+\".\")\n",
    "        return (\"The cuisine type is \"+self.cuisine_type+\".\")\n",
    "    \n",
    "    def open_restaurant (self):\n",
    "        return (self.restaurant_name.title()+ \" is now Open.\")\n",
    "    \n",
    "    def close_restaurant(self):\n",
    "        return (self.restaurant_name.title()+ \" is now Closed.\")      "
   ]
  },
  {
   "cell_type": "code",
   "execution_count": 162,
   "metadata": {},
   "outputs": [],
   "source": [
    "class IceCreamStand(Restaurant):\n",
    "    \"\"\"Try to represent a Ice Cream stand\"\"\"\n",
    "    \n",
    "    def __init__(self,restaurant_name, cuisine_type):\n",
    "        \"\"\"Initialize attributes of the parent calss\"\"\"\n",
    "        super().__init__(restaurant_name, cuisine_type)\n",
    "        self.flavours = []\n",
    "        \n",
    "    def display_flavours(self):\n",
    "        \"\"\"Display Ice cream flavours\"\"\"  \n",
    "        print (\"These are the available flavours:\")\n",
    "        for flavour in self.flavours:\n",
    "            print (flavour.title())"
   ]
  },
  {
   "cell_type": "code",
   "execution_count": 163,
   "metadata": {},
   "outputs": [],
   "source": [
    "myIceCreamStand = IceCreamStand(\"Cold Tongue Ice\", \"Ice Cream\")\n",
    "myIceCreamStand.flavours  = [\"Chocolate\", \"Vanilla\", \"Strawberry\"]"
   ]
  },
  {
   "cell_type": "code",
   "execution_count": 164,
   "metadata": {},
   "outputs": [
    {
     "name": "stdout",
     "output_type": "stream",
     "text": [
      "The restaurant name is Cold Tongue Ice.\n",
      "The cuisine type is Ice Cream.\n"
     ]
    }
   ],
   "source": [
    "print(myIceCreamStand.describe_restaurant())"
   ]
  },
  {
   "cell_type": "code",
   "execution_count": 165,
   "metadata": {},
   "outputs": [
    {
     "data": {
      "text/plain": [
       "'Cold Tongue Ice is now Open.'"
      ]
     },
     "execution_count": 165,
     "metadata": {},
     "output_type": "execute_result"
    }
   ],
   "source": [
    "myIceCreamStand.open_restaurant()"
   ]
  },
  {
   "cell_type": "code",
   "execution_count": 153,
   "metadata": {},
   "outputs": [
    {
     "data": {
      "text/plain": [
       "'Cold Tongue Ice is now Closed.'"
      ]
     },
     "execution_count": 153,
     "metadata": {},
     "output_type": "execute_result"
    }
   ],
   "source": [
    "myIceCreamStand.close_restaurant()"
   ]
  },
  {
   "cell_type": "code",
   "execution_count": 166,
   "metadata": {},
   "outputs": [
    {
     "name": "stdout",
     "output_type": "stream",
     "text": [
      "These are the available flavours:\n",
      "Chocolate\n",
      "Vanilla\n",
      "Strawberry\n"
     ]
    }
   ],
   "source": [
    "myIceCreamStand.display_flavours()"
   ]
  },
  {
   "cell_type": "markdown",
   "metadata": {},
   "source": [
    "### Importing Classes"
   ]
  },
  {
   "cell_type": "markdown",
   "metadata": {},
   "source": [
    "Even with Inhiretance classes can become big. Python allows you to store classes in modules."
   ]
  },
  {
   "cell_type": "markdown",
   "metadata": {},
   "source": [
    "Name the file and add only the class you want (or the classes  - i.e Car)\n",
    "save in the same directory\n",
    "in the new file call by \n",
    "from ModuleName import (name of the class)\n",
    "\n",
    "to import all classes\n",
    "\n",
    "from module_name import*"
   ]
  },
  {
   "cell_type": "code",
   "execution_count": null,
   "metadata": {},
   "outputs": [],
   "source": []
  }
 ],
 "metadata": {
  "kernelspec": {
   "display_name": "Python 3",
   "language": "python",
   "name": "python3"
  },
  "language_info": {
   "codemirror_mode": {
    "name": "ipython",
    "version": 3
   },
   "file_extension": ".py",
   "mimetype": "text/x-python",
   "name": "python",
   "nbconvert_exporter": "python",
   "pygments_lexer": "ipython3",
   "version": "3.6.9"
  }
 },
 "nbformat": 4,
 "nbformat_minor": 2
}
